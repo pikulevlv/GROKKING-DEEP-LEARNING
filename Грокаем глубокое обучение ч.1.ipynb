{
 "cells": [
  {
   "cell_type": "markdown",
   "metadata": {},
   "source": [
    "## Главы 1 - 5"
   ]
  },
  {
   "cell_type": "code",
   "execution_count": 1,
   "metadata": {},
   "outputs": [],
   "source": [
    "def neural_network(inp, weights):\n",
    "    prediction = inp * weights\n",
    "    return prediction"
   ]
  },
  {
   "cell_type": "code",
   "execution_count": 2,
   "metadata": {},
   "outputs": [
    {
     "data": {
      "text/plain": [
       "0.8500000000000001"
      ]
     },
     "execution_count": 2,
     "metadata": {},
     "output_type": "execute_result"
    }
   ],
   "source": [
    "weights = 0.1\n",
    "number_of_toes = [8.5, 9.5, 10, 9]\n",
    "inp = number_of_toes[0]\n",
    "pred = neural_network(inp, weights)\n",
    "pred"
   ]
  },
  {
   "cell_type": "code",
   "execution_count": 3,
   "metadata": {},
   "outputs": [],
   "source": [
    "def w_sum(inp, weights):\n",
    "    \"\"\"Функция делает скалярное произведение векторов\"\"\"\n",
    "    if not len(inp) == len(weights):\n",
    "        raise Exception('Inputs and Weights don\\'t have the same length!')\n",
    "    else:\n",
    "        result = 0\n",
    "        for i in range(len(inp)):\n",
    "            result += inp[i] * weights[i]\n",
    "        return result"
   ]
  },
  {
   "cell_type": "code",
   "execution_count": 4,
   "metadata": {
    "scrolled": true
   },
   "outputs": [],
   "source": [
    "#w_sum([0.1, 0.1, 0.1, 0.1], [2, 2, 3])"
   ]
  },
  {
   "cell_type": "markdown",
   "metadata": {},
   "source": [
    "### Несколько входов и один выход"
   ]
  },
  {
   "cell_type": "code",
   "execution_count": 5,
   "metadata": {},
   "outputs": [],
   "source": [
    "class MyClass(object):\n",
    "    def __init__(self, weights, toes, wlrec, nfans):\n",
    "        self.weights = weights\n",
    "        self.toes = toes\n",
    "        self.wlrec = wlrec\n",
    "        self.nfans = nfans\n",
    "        \n",
    "        \n",
    "    def w_sum(self, inp, weights):\n",
    "        if len(inp) != len(weights):\n",
    "            raise Exception('ERROR!')\n",
    "        result = 0\n",
    "        for i in range(len(inp)):\n",
    "            result += inp[i] * weights[i]\n",
    "        return result \n",
    "    \n",
    "    \n",
    "    def elementwise_multiplication(self, vec_a, vec_b):\n",
    "        if len(vec_a) != len(vec_b):\n",
    "            raise Exception('ERROR!')\n",
    "        result = []\n",
    "        for i in range(len(vec_a)):\n",
    "            result.append(vec_a[i] * vec_b[i])\n",
    "        return result\n",
    "            \n",
    "        \n",
    "    def elementwise_addition(self, vec_a, vec_b):\n",
    "        if len(vec_a) > len(vec_b):\n",
    "            vec_a, vec_b = vec_a, vec_b\n",
    "        elif len(vec_a) < len(vec_b):\n",
    "            vec_a, vec_b = vec_b, vec_a\n",
    "        else:\n",
    "            pass\n",
    "        \n",
    "        result = []\n",
    "        for i in range(len(vec_a)):\n",
    "            try:\n",
    "                result.append(vec_a[i] + vec_b[i])\n",
    "            except:\n",
    "                result.append(vec_a[i])\n",
    "        return result\n",
    "    \n",
    "    \n",
    "    def vector_sum(self, vec_a):\n",
    "        result = 0\n",
    "        for i in range(len(vec_a)):\n",
    "            result += vec_a[i]\n",
    "        return result\n",
    "    \n",
    "    \n",
    "    def vector_average(self, vec_a):\n",
    "        result = 0\n",
    "        for i in range(len(vec_a)):\n",
    "            result += vec_a[i]\n",
    "        return result/len(vec_a)\n",
    "    \n",
    "    \n",
    "    def neural_network(self, inp, weights):\n",
    "        prediction = self.w_sum(inp, weights)\n",
    "        return prediction"
   ]
  },
  {
   "cell_type": "code",
   "execution_count": 6,
   "metadata": {},
   "outputs": [],
   "source": [
    "weights = [0.1, 0.2, 0]\n",
    "\n",
    "toes = [8.5, 9.5, 9.9, 9.0]\n",
    "wlrec = [0.65, 0.8, 0.8, 0.9]\n",
    "nfans = [1.2, 1.3, 0.5, 1.0]\n",
    "\n",
    "inp = [toes[0], wlrec[0], nfans[0]]\n",
    "\n",
    "class1 = MyClass(weights, toes, wlrec, nfans)"
   ]
  },
  {
   "cell_type": "code",
   "execution_count": 7,
   "metadata": {},
   "outputs": [
    {
     "data": {
      "text/plain": [
       "0.9800000000000001"
      ]
     },
     "execution_count": 7,
     "metadata": {},
     "output_type": "execute_result"
    }
   ],
   "source": [
    "class1.w_sum(inp, weights)"
   ]
  },
  {
   "cell_type": "code",
   "execution_count": 8,
   "metadata": {
    "scrolled": true
   },
   "outputs": [
    {
     "data": {
      "text/plain": [
       "[0.8500000000000001, 0.13, 0.0]"
      ]
     },
     "execution_count": 8,
     "metadata": {},
     "output_type": "execute_result"
    }
   ],
   "source": [
    "class1.elementwise_multiplication(inp, weights)"
   ]
  },
  {
   "cell_type": "code",
   "execution_count": 9,
   "metadata": {},
   "outputs": [
    {
     "data": {
      "text/plain": [
       "0.9800000000000001"
      ]
     },
     "execution_count": 9,
     "metadata": {},
     "output_type": "execute_result"
    }
   ],
   "source": [
    "class1.w_sum([class1.toes[0], class1.wlrec[0], class1.nfans[0]], class1.weights)"
   ]
  },
  {
   "cell_type": "code",
   "execution_count": 10,
   "metadata": {},
   "outputs": [
    {
     "data": {
      "text/plain": [
       "0.30000000000000004"
      ]
     },
     "execution_count": 10,
     "metadata": {},
     "output_type": "execute_result"
    }
   ],
   "source": [
    "class1.vector_sum(weights)"
   ]
  },
  {
   "cell_type": "code",
   "execution_count": 11,
   "metadata": {},
   "outputs": [
    {
     "data": {
      "text/plain": [
       "0.10000000000000002"
      ]
     },
     "execution_count": 11,
     "metadata": {},
     "output_type": "execute_result"
    }
   ],
   "source": [
    "class1.vector_average(weights)"
   ]
  },
  {
   "cell_type": "code",
   "execution_count": 12,
   "metadata": {},
   "outputs": [
    {
     "data": {
      "text/plain": [
       "0.9800000000000001"
      ]
     },
     "execution_count": 12,
     "metadata": {},
     "output_type": "execute_result"
    }
   ],
   "source": [
    "class1.neural_network(inp, weights)"
   ]
  },
  {
   "cell_type": "code",
   "execution_count": 13,
   "metadata": {},
   "outputs": [],
   "source": [
    "import numpy as np"
   ]
  },
  {
   "cell_type": "markdown",
   "metadata": {},
   "source": [
    "### Один вход и несколько выходов"
   ]
  },
  {
   "cell_type": "code",
   "execution_count": 14,
   "metadata": {},
   "outputs": [],
   "source": [
    "import numpy as np"
   ]
  },
  {
   "cell_type": "code",
   "execution_count": 15,
   "metadata": {},
   "outputs": [],
   "source": [
    "class MyClass2(object):\n",
    "    def __init__(self, weights, toes, wlrec, nfans):\n",
    "        import numpy as np\n",
    "        self.weights = weights\n",
    "        self.toes = toes\n",
    "        self.wlrec = wlrec\n",
    "        self.nfans = nfans\n",
    "        \n",
    "    def ele_mul(self, vec_a, vec_b):\n",
    "        return vec_a * vec_b  \n",
    "    \n",
    "    def neural_network(self, inp, weights):\n",
    "        prediction = self.ele_mul(inp, weights)\n",
    "        return prediction\n",
    "    \n",
    "    def neural_network_old(self, inp, weights):\n",
    "        prediction = inp.dot(weights)\n",
    "        return prediction"
   ]
  },
  {
   "cell_type": "code",
   "execution_count": 16,
   "metadata": {},
   "outputs": [
    {
     "data": {
      "text/plain": [
       "3.76"
      ]
     },
     "execution_count": 16,
     "metadata": {},
     "output_type": "execute_result"
    }
   ],
   "source": [
    "weights = np.array([0.3, 0.2, 0.9])\n",
    "toes = np.array([8.5, 9.5, 9.9, 9.0])\n",
    "wlrec = np.array([0.65, 0.8, 0.8, 0.9])\n",
    "nfans = np.array([1.2, 1.3, 0.5, 1.0])\n",
    "\n",
    "inp = np.array([toes[0], wlrec[0], nfans[0]])\n",
    "\n",
    "class2 = MyClass2(weights, toes, wlrec, nfans)\n",
    "class2.neural_network_old(inp, weights)"
   ]
  },
  {
   "cell_type": "code",
   "execution_count": 17,
   "metadata": {},
   "outputs": [
    {
     "data": {
      "text/plain": [
       "array([0.195, 0.13 , 0.585])"
      ]
     },
     "execution_count": 17,
     "metadata": {},
     "output_type": "execute_result"
    }
   ],
   "source": [
    "inp = wlrec[0]\n",
    "weights = np.array([0.3, 0.2, 0.9])\n",
    "class2.ele_mul(inp, weights)"
   ]
  },
  {
   "cell_type": "code",
   "execution_count": 18,
   "metadata": {},
   "outputs": [
    {
     "data": {
      "text/plain": [
       "array([0.195, 0.13 , 0.585])"
      ]
     },
     "execution_count": 18,
     "metadata": {},
     "output_type": "execute_result"
    }
   ],
   "source": [
    "class2.neural_network(inp, weights)"
   ]
  },
  {
   "cell_type": "markdown",
   "metadata": {},
   "source": [
    "### Несколько входов и несколько выходов ♥"
   ]
  },
  {
   "cell_type": "code",
   "execution_count": 19,
   "metadata": {
    "scrolled": true
   },
   "outputs": [
    {
     "data": {
      "text/plain": [
       "array([[8.5 , 0.65, 1.2 ],\n",
       "       [9.5 , 0.8 , 1.3 ],\n",
       "       [9.9 , 0.8 , 0.5 ],\n",
       "       [9.  , 0.9 , 1.  ]])"
      ]
     },
     "execution_count": 19,
     "metadata": {},
     "output_type": "execute_result"
    }
   ],
   "source": [
    "inp = np.vstack([toes, wlrec, nfans]).T\n",
    "inp"
   ]
  },
  {
   "cell_type": "code",
   "execution_count": 20,
   "metadata": {},
   "outputs": [
    {
     "data": {
      "text/plain": [
       "array([8.5 , 0.65, 1.2 ])"
      ]
     },
     "execution_count": 20,
     "metadata": {},
     "output_type": "execute_result"
    }
   ],
   "source": [
    "inp = inp[0,:]\n",
    "inp"
   ]
  },
  {
   "cell_type": "code",
   "execution_count": 21,
   "metadata": {},
   "outputs": [
    {
     "data": {
      "text/plain": [
       "array([[ 0.1,  0.1,  0. ],\n",
       "       [ 0.1,  0.2,  1.3],\n",
       "       [-0.3,  0. ,  0.1]])"
      ]
     },
     "execution_count": 21,
     "metadata": {},
     "output_type": "execute_result"
    }
   ],
   "source": [
    "weights = np.array([[0.1, 0.1, -0.3],\n",
    "                    [0.1, 0.2,  0.0],\n",
    "                    [0.0, 1.3,  0.1]]).T\n",
    "weights"
   ]
  },
  {
   "cell_type": "code",
   "execution_count": 22,
   "metadata": {},
   "outputs": [],
   "source": [
    "# weights = weights[:,0].reshape(-1,1)\n",
    "# weights"
   ]
  },
  {
   "cell_type": "code",
   "execution_count": 23,
   "metadata": {},
   "outputs": [],
   "source": [
    "class MyClass3(object):\n",
    "    def __init__(self, inp, weights):\n",
    "        import numpy as np\n",
    "        self.inp = inp\n",
    "        self.weights = weights\n",
    "\n",
    "    \n",
    "    def w_sum(self, inp, weights):\n",
    "        inp = inp.reshape(-1,1).T\n",
    "        weights = weights.reshape(-1,1).T\n",
    "        if inp.shape[0] == weights.shape[0]:\n",
    "            return np.sum(inp.ravel() * weights.ravel())\n",
    "        else:\n",
    "            raise Exception(\"Arrays have not equal shapes!\")\n",
    "    \n",
    "    \n",
    "    def vect_mat_mul(self, inp, weights):\n",
    "        inp = inp.reshape(-1,1).T\n",
    "        if inp.shape[1] == weights.shape[0]:\n",
    "            output = np.zeros(inp.shape[1]).reshape(-1,1).T\n",
    "            for i in range(weights.shape[1]):\n",
    "                output[0,i] = self.w_sum(inp, weights[:,i])\n",
    "            return output\n",
    "        else:\n",
    "            raise Exception(\"Arrays have not equal shapes!\")\n",
    "    \n",
    "    \n",
    "    def ele_mul(self, vec_a, vec_b):\n",
    "        return vec_a * vec_b  \n",
    "    \n",
    "    \n",
    "    def neural_network(self, inp, weights):\n",
    "        prediction = self.vect_mat_mul(inp, weights)[0]\n",
    "        return prediction\n",
    "    \n",
    "    \n",
    "    def neural_network_old(self, inp, weights):\n",
    "        prediction = self.ele_mul(inp, weights)\n",
    "        return prediction\n",
    "    \n",
    "    \n",
    "    def neural_network_oldest(self, inp, weights):\n",
    "        prediction = inp.dot(weights)\n",
    "        return prediction"
   ]
  },
  {
   "cell_type": "code",
   "execution_count": 24,
   "metadata": {},
   "outputs": [
    {
     "data": {
      "text/plain": [
       "array([0.555, 0.98 , 0.965])"
      ]
     },
     "execution_count": 24,
     "metadata": {},
     "output_type": "execute_result"
    }
   ],
   "source": [
    "class3 = MyClass3(inp, weights)\n",
    "class3.neural_network(inp, weights)"
   ]
  },
  {
   "cell_type": "markdown",
   "metadata": {},
   "source": [
    "### Скрытые слои (прогноз на основе прогноза) ♥"
   ]
  },
  {
   "cell_type": "code",
   "execution_count": 25,
   "metadata": {},
   "outputs": [],
   "source": [
    "class MyClass4(object):\n",
    "    def __init__(self, inp, weights):\n",
    "        import numpy as np\n",
    "        self.inp = inp\n",
    "        self.weights = weights\n",
    "\n",
    "    \n",
    "    def w_sum(self, inp, weights):\n",
    "        inp = inp.reshape(-1,1).T\n",
    "        weights = weights.reshape(-1,1).T\n",
    "        if inp.shape[0] == weights.shape[0]:\n",
    "            return np.sum(inp.ravel() * weights.ravel())\n",
    "        else:\n",
    "            raise Exception(\"Arrays have not equal shapes!\")\n",
    "    \n",
    "    \n",
    "    def vect_mat_mul(self, inp, weights):\n",
    "        inp = inp.reshape(-1,1).T\n",
    "        if inp.shape[1] == weights.shape[0]:\n",
    "            output = np.zeros(inp.shape[1]).reshape(-1,1).T\n",
    "            for i in range(weights.shape[1]):\n",
    "                output[0,i] = self.w_sum(inp, weights[:,i])\n",
    "            return output\n",
    "        else:\n",
    "            raise Exception(\"Arrays have not equal shapes!\")\n",
    "    \n",
    "    \n",
    "    def ele_mul(self, vec_a, vec_b):\n",
    "        return vec_a * vec_b  \n",
    "    \n",
    "    \n",
    "    def neural_network(self, inp, weights):\n",
    "        layer_1_pred = self.vect_mat_mul(inp, weights[0])[0].reshape(-1,1).T\n",
    "        print('На внутренний слой подается:\\n', layer_1_pred)\n",
    "        prediction = self.vect_mat_mul(layer_1_pred, weights[1])[0]\n",
    "        return prediction"
   ]
  },
  {
   "cell_type": "code",
   "execution_count": 26,
   "metadata": {},
   "outputs": [
    {
     "data": {
      "text/plain": [
       "array([[8.5 , 0.65, 1.2 ],\n",
       "       [9.5 , 0.8 , 1.3 ],\n",
       "       [9.9 , 0.8 , 0.5 ],\n",
       "       [9.  , 0.9 , 1.  ]])"
      ]
     },
     "execution_count": 26,
     "metadata": {},
     "output_type": "execute_result"
    }
   ],
   "source": [
    "inp = np.vstack([toes, wlrec, nfans]).T\n",
    "inp"
   ]
  },
  {
   "cell_type": "code",
   "execution_count": 27,
   "metadata": {},
   "outputs": [
    {
     "data": {
      "text/plain": [
       "array([8.5 , 0.65, 1.2 ])"
      ]
     },
     "execution_count": 27,
     "metadata": {},
     "output_type": "execute_result"
    }
   ],
   "source": [
    "inp = inp[0,:]\n",
    "inp"
   ]
  },
  {
   "cell_type": "code",
   "execution_count": null,
   "metadata": {},
   "outputs": [],
   "source": []
  },
  {
   "cell_type": "code",
   "execution_count": 28,
   "metadata": {},
   "outputs": [
    {
     "data": {
      "text/plain": [
       "array([[ 0.1, -0.1,  0.1],\n",
       "       [ 0.2,  0.1,  0.4],\n",
       "       [-0.1,  0.9,  0.1]])"
      ]
     },
     "execution_count": 28,
     "metadata": {},
     "output_type": "execute_result"
    }
   ],
   "source": [
    "hid_w = np.array([[0.1, 0.2, -0.1],\n",
    "                  [-0.1,0.1,  0.9],\n",
    "                  [0.1, 0.4,  0.1]]).T\n",
    "hid_w"
   ]
  },
  {
   "cell_type": "code",
   "execution_count": 29,
   "metadata": {},
   "outputs": [
    {
     "data": {
      "text/plain": [
       "array([[ 0.3,  0.1,  0. ],\n",
       "       [ 1.1,  0.2,  1.3],\n",
       "       [-0.3,  0. ,  0.1]])"
      ]
     },
     "execution_count": 29,
     "metadata": {},
     "output_type": "execute_result"
    }
   ],
   "source": [
    "outer_w = np.array([[0.3, 1.1, -0.3],\n",
    "                    [0.1, 0.2,  0.0],\n",
    "                    [0.0, 1.3,  0.1]]).T\n",
    "outer_w"
   ]
  },
  {
   "cell_type": "code",
   "execution_count": 30,
   "metadata": {},
   "outputs": [
    {
     "data": {
      "text/plain": [
       "[array([[ 0.1, -0.1,  0.1],\n",
       "        [ 0.2,  0.1,  0.4],\n",
       "        [-0.1,  0.9,  0.1]]), array([[ 0.3,  0.1,  0. ],\n",
       "        [ 1.1,  0.2,  1.3],\n",
       "        [-0.3,  0. ,  0.1]])]"
      ]
     },
     "execution_count": 30,
     "metadata": {},
     "output_type": "execute_result"
    }
   ],
   "source": [
    "weights = [hid_w, outer_w]\n",
    "weights"
   ]
  },
  {
   "cell_type": "code",
   "execution_count": 31,
   "metadata": {},
   "outputs": [
    {
     "name": "stdout",
     "output_type": "stream",
     "text": [
      "На внутренний слой подается:\n",
      " [[0.86  0.295 1.23 ]]\n"
     ]
    },
    {
     "data": {
      "text/plain": [
       "array([0.2135, 0.145 , 0.5065])"
      ]
     },
     "execution_count": 31,
     "metadata": {},
     "output_type": "execute_result"
    }
   ],
   "source": [
    "class4 = MyClass4(inp, weights)\n",
    "class4.neural_network(inp, weights)"
   ]
  },
  {
   "cell_type": "markdown",
   "metadata": {},
   "source": [
    "### Среднеквадратическая ошибка"
   ]
  },
  {
   "cell_type": "code",
   "execution_count": 32,
   "metadata": {},
   "outputs": [
    {
     "name": "stdout",
     "output_type": "stream",
     "text": [
      "0.3025\n"
     ]
    }
   ],
   "source": [
    "knob_weight = 0.5\n",
    "inp = 0.5\n",
    "goal_pred = 0.8\n",
    "\n",
    "pred = inp * knob_weight\n",
    "error = (pred - goal_pred) ** 2\n",
    "print(round(error, 4))"
   ]
  },
  {
   "cell_type": "markdown",
   "metadata": {},
   "source": [
    "### Обучение методом \"холодно-горячо\""
   ]
  },
  {
   "cell_type": "code",
   "execution_count": 33,
   "metadata": {},
   "outputs": [],
   "source": [
    "weight = 0.1\n",
    "lr = 0.01\n",
    "def neural_network(inp, weight):\n",
    "    prediction = inp * weight\n",
    "    return prediction"
   ]
  },
  {
   "cell_type": "code",
   "execution_count": 34,
   "metadata": {},
   "outputs": [
    {
     "name": "stdout",
     "output_type": "stream",
     "text": [
      "0.0225\n"
     ]
    }
   ],
   "source": [
    "number_of_toes = [8.5]\n",
    "win_or_lose_binary = [1]\n",
    "\n",
    "inp = number_of_toes[0]\n",
    "true = win_or_lose_binary[0]\n",
    "\n",
    "pred = neural_network(inp, weight)\n",
    "\n",
    "error = (pred - true) ** 2\n",
    "print(round(error, 4))"
   ]
  },
  {
   "cell_type": "markdown",
   "metadata": {},
   "source": [
    "Увеличим вес:"
   ]
  },
  {
   "cell_type": "code",
   "execution_count": 35,
   "metadata": {},
   "outputs": [
    {
     "name": "stdout",
     "output_type": "stream",
     "text": [
      "Текущий вес:  0.11\n",
      "Результат:  0.935\n",
      "RSE:  0.0042\n"
     ]
    }
   ],
   "source": [
    "pred_up = neural_network(inp, weight + lr)\n",
    "print('Текущий вес: ', round(weight + lr, 3))\n",
    "print('Результат: ', round(pred_up, 4))\n",
    "err_up = (pred_up - true) ** 2\n",
    "print('RSE: ', round(err_up, 4))"
   ]
  },
  {
   "cell_type": "markdown",
   "metadata": {},
   "source": [
    "Уменьшим вес:"
   ]
  },
  {
   "cell_type": "code",
   "execution_count": 36,
   "metadata": {},
   "outputs": [
    {
     "name": "stdout",
     "output_type": "stream",
     "text": [
      "Текущий вес:  0.09\n",
      "Результат:  0.765\n",
      "RSE:  0.055\n"
     ]
    }
   ],
   "source": [
    "pred_dn = neural_network(inp, weight - lr)\n",
    "print('Текущий вес: ', round(weight - lr, 3))\n",
    "print('Результат: ', round(pred_dn, 3))\n",
    "err_dn = (pred_dn - true) ** 2\n",
    "print('RSE: ', round(err_dn, 3))"
   ]
  },
  {
   "cell_type": "markdown",
   "metadata": {},
   "source": [
    "Сравним ошибки и выберем лучший результат (обновим вес)"
   ]
  },
  {
   "cell_type": "code",
   "execution_count": 37,
   "metadata": {},
   "outputs": [],
   "source": [
    "if error != err_dn or error != err_up:\n",
    "    if err_up > err_dn:\n",
    "        weight -= lr\n",
    "    elif err_up <= err_dn:\n",
    "        weight += lr"
   ]
  },
  {
   "cell_type": "code",
   "execution_count": 38,
   "metadata": {},
   "outputs": [
    {
     "name": "stdout",
     "output_type": "stream",
     "text": [
      "Обновленный текущий вес:  0.11\n"
     ]
    }
   ],
   "source": [
    "print('Обновленный текущий вес: ', weight)"
   ]
  },
  {
   "cell_type": "code",
   "execution_count": 39,
   "metadata": {
    "scrolled": true
   },
   "outputs": [
    {
     "name": "stdout",
     "output_type": "stream",
     "text": [
      "iteration #0 | prediction = 0.251 |updated weight = 0.501 | RSE = 0.3019502500000001 | dir UP\n",
      "iteration #50 | prediction = 0.276 |updated weight = 0.551 | RSE = 0.27510025 | dir UP\n",
      "iteration #100 | prediction = 0.301 |updated weight = 0.601 | RSE = 0.24950025 | dir UP\n",
      "iteration #150 | prediction = 0.326 |updated weight = 0.651 | RSE = 0.22515024999999997 | dir UP\n",
      "iteration #200 | prediction = 0.351 |updated weight = 0.701 | RSE = 0.20205024999999996 | dir UP\n",
      "iteration #250 | prediction = 0.376 |updated weight = 0.751 | RSE = 0.18020024999999995 | dir UP\n",
      "iteration #300 | prediction = 0.401 |updated weight = 0.801 | RSE = 0.15960024999999992 | dir UP\n",
      "iteration #350 | prediction = 0.426 |updated weight = 0.851 | RSE = 0.1402502499999999 | dir UP\n",
      "iteration #400 | prediction = 0.451 |updated weight = 0.901 | RSE = 0.1221502499999999 | dir UP\n",
      "iteration #450 | prediction = 0.476 |updated weight = 0.951 | RSE = 0.1053002499999999 | dir UP\n",
      "iteration #500 | prediction = 0.501 |updated weight = 1.001 | RSE = 0.08970024999999993 | dir UP\n",
      "iteration #550 | prediction = 0.525 |updated weight = 1.051 | RSE = 0.07535025000000145 | dir UP\n",
      "iteration #600 | prediction = 0.55 |updated weight = 1.101 | RSE = 0.062250250000002685 | dir UP\n",
      "iteration #650 | prediction = 0.575 |updated weight = 1.151 | RSE = 0.05040025000000365 | dir UP\n",
      "iteration #700 | prediction = 0.6 |updated weight = 1.201 | RSE = 0.039800250000004346 | dir UP\n",
      "iteration #750 | prediction = 0.625 |updated weight = 1.251 | RSE = 0.03045025000000476 | dir UP\n",
      "iteration #800 | prediction = 0.65 |updated weight = 1.301 | RSE = 0.022350250000004904 | dir UP\n",
      "iteration #850 | prediction = 0.675 |updated weight = 1.351 | RSE = 0.015500250000004769 | dir UP\n",
      "iteration #900 | prediction = 0.7 |updated weight = 1.401 | RSE = 0.009900250000004359 | dir UP\n",
      "iteration #950 | prediction = 0.725 |updated weight = 1.451 | RSE = 0.005550250000003674 | dir UP\n",
      "iteration #1000 | prediction = 0.75 |updated weight = 1.501 | RSE = 0.0024502500000027137 | dir UP\n",
      "iteration #1050 | prediction = 0.775 |updated weight = 1.551 | RSE = 0.0006002500000014781 | dir UP\n",
      "iteration #1100 | prediction = 0.8 |updated weight = 1.601 | RSE = 2.4999999996708233e-07 | dir UP\n",
      "iteration #1150 | prediction = 0.8 |updated weight = 1.601 | RSE = 2.4999999996708233e-07 | dir UP\n",
      "iteration #1200 | prediction = 0.8 |updated weight = 1.601 | RSE = 2.4999999996708233e-07 | dir UP\n"
     ]
    }
   ],
   "source": [
    "weight = 0.5 # начальный вес\n",
    "lr = 0.001 # скорость обучения\n",
    "def neural_network(inp, weight):\n",
    "    prediction = inp * weight\n",
    "    return prediction\n",
    "\n",
    "number_of_toes = [0.5] # входящие данные\n",
    "win_or_lose_binary = [0.8] # значение целевой переменной из наблюдения\n",
    "\n",
    "inp = number_of_toes[0] # входящие данные\n",
    "true = win_or_lose_binary[0] # значение целевой переменной из наблюдения\n",
    "\n",
    "num_iters = 1200 + 1  # число итераций\n",
    "\n",
    "for i in range(num_iters):\n",
    "    pred = neural_network(inp, weight) # предсказание с текущим весом\n",
    "    error = (pred - true) ** 2 # значение RSE\n",
    "\n",
    "    pred_up = neural_network(inp, weight + lr) # предсказание с повышенным весом\n",
    "    err_up = (pred_up - true) ** 2 # значение RSE\n",
    "    \n",
    "    pred_dn = neural_network(inp, weight - lr) # предсказание с пониженным весом\n",
    "    err_dn = (pred_dn - true) ** 2 # значение RSE\n",
    "    \n",
    "    if error != err_dn or error != err_up: # в цикле выбираем новый вес\n",
    "        if err_up > err_dn:\n",
    "            weight -= lr\n",
    "            if i % 50 == 0: # печатаем каждый 50-й шаг\n",
    "                print('{}{: >3}'.format(list[x].ljust(15, ' '), x))\n",
    "                print('iteration #{: >3} | prediction = {: >3}\\\n",
    "                |updated weight = {: >3} | RSE = {: >3} | dir DOWN'.format(i, round(pred_dn, 3), round(weight, 4), err_dn))\n",
    "                print(f'iteration #{i} | prediction = {round(pred_dn, 3)} |updated weight = {round(weight, 4)} | RSE = {err_dn} | dir DOWN')\n",
    "        elif err_up <= err_dn:\n",
    "            weight += lr\n",
    "            if i % 50 == 0: # печатаем каждый 50-й шаг\n",
    "                print(f'iteration #{i} | prediction = {round(pred_up, 3)} |updated weight = {round(weight, 4)} | RSE = {err_up} | dir UP')"
   ]
  },
  {
   "cell_type": "code",
   "execution_count": 40,
   "metadata": {},
   "outputs": [
    {
     "name": "stdout",
     "output_type": "stream",
     "text": [
      "iteration #       0 | prediction = 0.2505 | updated weight = 0.501 | RSE =  0.302| dir UP       \n",
      "iteration #      50 | prediction = 0.2755 | updated weight = 0.551 | RSE = 0.2751| dir UP       \n",
      "iteration #     100 | prediction = 0.3005 | updated weight = 0.601 | RSE = 0.2495| dir UP       \n",
      "iteration #     150 | prediction = 0.3255 | updated weight = 0.651 | RSE = 0.2252| dir UP       \n",
      "iteration #     200 | prediction = 0.3505 | updated weight = 0.701 | RSE = 0.2021| dir UP       \n",
      "iteration #     250 | prediction = 0.3755 | updated weight = 0.751 | RSE = 0.1802| dir UP       \n",
      "iteration #     300 | prediction = 0.4005 | updated weight = 0.801 | RSE = 0.1596| dir UP       \n",
      "iteration #     350 | prediction = 0.4255 | updated weight = 0.851 | RSE = 0.1403| dir UP       \n",
      "iteration #     400 | prediction = 0.4505 | updated weight = 0.901 | RSE = 0.1222| dir UP       \n",
      "iteration #     450 | prediction = 0.4755 | updated weight = 0.951 | RSE = 0.1053| dir UP       \n",
      "iteration #     500 | prediction = 0.5005 | updated weight = 1.001 | RSE = 0.0897| dir UP       \n",
      "iteration #     550 | prediction = 0.5255 | updated weight = 1.051 | RSE = 0.0754| dir UP       \n",
      "iteration #     600 | prediction = 0.5505 | updated weight = 1.101 | RSE = 0.0623| dir UP       \n",
      "iteration #     650 | prediction = 0.5755 | updated weight = 1.151 | RSE = 0.0504| dir UP       \n",
      "iteration #     700 | prediction = 0.6005 | updated weight = 1.201 | RSE = 0.0398| dir UP       \n",
      "iteration #     750 | prediction = 0.6255 | updated weight = 1.251 | RSE = 0.0305| dir UP       \n",
      "iteration #     800 | prediction = 0.6505 | updated weight = 1.301 | RSE = 0.0224| dir UP       \n",
      "iteration #     850 | prediction = 0.6755 | updated weight = 1.351 | RSE = 0.0155| dir UP       \n",
      "iteration #     900 | prediction = 0.7005 | updated weight = 1.401 | RSE = 0.0099| dir UP       \n",
      "iteration #     950 | prediction = 0.7255 | updated weight = 1.451 | RSE = 0.0056| dir UP       \n",
      "iteration #    1000 | prediction = 0.7505 | updated weight = 1.501 | RSE = 0.0025| dir UP       \n",
      "iteration #    1050 | prediction = 0.7755 | updated weight = 1.551 | RSE = 0.0006| dir UP       \n",
      "iteration #    1100 | prediction = 0.8005 | updated weight = 1.601 | RSE =    0.0| dir UP       \n",
      "iteration #    1150 | prediction = 0.8005 | updated weight = 1.601 | RSE =    0.0| dir UP       \n",
      "iteration #    1200 | prediction = 0.8005 | updated weight = 1.601 | RSE =    0.0| dir UP       \n"
     ]
    }
   ],
   "source": [
    "weight = 0.5 # начальный вес\n",
    "lr = 0.001 # скорость обучения\n",
    "def neural_network(inp, weight):\n",
    "    prediction = inp * weight\n",
    "    return prediction\n",
    "\n",
    "number_of_toes = [0.5] # входящие данные\n",
    "win_or_lose_binary = [0.8] # значение целевой переменной из наблюдения\n",
    "\n",
    "inp = number_of_toes[0] # входящие данные\n",
    "true = win_or_lose_binary[0] # значение целевой переменной из наблюдения\n",
    "\n",
    "num_iters = 1200 + 1  # число итераций\n",
    "\n",
    "for i in range(num_iters):\n",
    "    pred = neural_network(inp, weight) # предсказание с текущим весом\n",
    "    error = (pred - true) ** 2 # значение RSE\n",
    "\n",
    "    pred_up = neural_network(inp, weight + lr) # предсказание с повышенным весом\n",
    "    err_up = (pred_up - true) ** 2 # значение RSE\n",
    "    \n",
    "    pred_dn = neural_network(inp, weight - lr) # предсказание с пониженным весом\n",
    "    err_dn = (pred_dn - true) ** 2 # значение RSE\n",
    "    \n",
    "    if error != err_dn or error != err_up: # в цикле выбираем новый вес\n",
    "        if err_up > err_dn:\n",
    "            weight -= lr\n",
    "            if i % 50 == 0: # печатаем каждый 50-й шаг\n",
    "                str_list = ['iteration #', '| prediction = ', '| updated weight = ', '| RSE = ', '| dir DOWN']\n",
    "                val_list = [i, round(pred_dn, 4), round(weight, 4), round(err_dn, 4), None]\n",
    "                zip_list = [s for s in zip(str_list, val_list)]\n",
    "                print('{}{: >4} {}{: >4} {}{: >4} {}{: >6}{}'.format(zip_list[0][0].ljust(15, ' '), zip_list[0][1], \n",
    "                                                                    zip_list[1][0].ljust(15, ' '), zip_list[1][1],\n",
    "                                                                    zip_list[2][0].ljust(5, ' '), zip_list[2][1],\n",
    "                                                                    zip_list[3][0].ljust(15, ' '), zip_list[3][1],))\n",
    "\n",
    "        elif err_up <= err_dn:\n",
    "            weight += lr\n",
    "            if i % 50 == 0: # печатаем каждый 50-й шаг\n",
    "                str_list = ['iteration #', '| prediction = ', '| updated weight = ', '| RSE = ', '| dir UP']\n",
    "                val_list = [i, round(pred_up, 4), round(weight, 4), round(err_up, 4), None]\n",
    "                zip_list = [s for s in zip(str_list, val_list)]\n",
    "                print('{}{: >4} {}{: >4} {}{: >4} {}{: >6}{}'.format(zip_list[0][0].ljust(15, ' '), zip_list[0][1], \n",
    "                                                                    zip_list[1][0].ljust(15, ' '), zip_list[1][1],\n",
    "                                                                    zip_list[2][0].ljust(15, ' '), zip_list[2][1],\n",
    "                                                                    zip_list[3][0].ljust(5, ' '), zip_list[3][1],\n",
    "                                                                    zip_list[4][0].ljust(15, ' '), zip_list[4][1],\n",
    "                                                                   ))"
   ]
  },
  {
   "cell_type": "markdown",
   "metadata": {},
   "source": [
    "### Вычисление направления и величины ошибки"
   ]
  },
  {
   "cell_type": "code",
   "execution_count": 41,
   "metadata": {},
   "outputs": [
    {
     "name": "stdout",
     "output_type": "stream",
     "text": [
      "Error 0.3025 Prediction 0.25 dir_and_amount -0.275 weight 0.775\n",
      "Error 0.1702 Prediction 0.3875 dir_and_amount -0.2063 weight 0.9813\n",
      "Error 0.0957 Prediction 0.4906 dir_and_amount -0.1547 weight 1.1359\n",
      "Error 0.0538 Prediction 0.568 dir_and_amount -0.116 weight 1.252\n",
      "Error 0.0303 Prediction 0.626 dir_and_amount -0.087 weight 1.339\n",
      "Error 0.017 Prediction 0.6695 dir_and_amount -0.0653 weight 1.4042\n",
      "Error 0.0096 Prediction 0.7021 dir_and_amount -0.0489 weight 1.4532\n",
      "Error 0.0054 Prediction 0.7266 dir_and_amount -0.0367 weight 1.4899\n",
      "Error 0.003 Prediction 0.7449 dir_and_amount -0.0275 weight 1.5174\n",
      "Error 0.0017 Prediction 0.7587 dir_and_amount -0.0206 weight 1.5381\n",
      "Error 0.001 Prediction 0.769 dir_and_amount -0.0155 weight 1.5535\n",
      "Error 0.0005 Prediction 0.7768 dir_and_amount -0.0116 weight 1.5652\n",
      "Error 0.0003 Prediction 0.7826 dir_and_amount -0.0087 weight 1.5739\n",
      "Error 0.0002 Prediction 0.7869 dir_and_amount -0.0065 weight 1.5804\n",
      "Error 0.0001 Prediction 0.7902 dir_and_amount -0.0049 weight 1.5853\n",
      "Error 0.0001 Prediction 0.7927 dir_and_amount -0.0037 weight 1.589\n",
      "Error 0.0 Prediction 0.7945 dir_and_amount -0.0028 weight 1.5917\n",
      "Error 0.0 Prediction 0.7959 dir_and_amount -0.0021 weight 1.5938\n",
      "Error 0.0 Prediction 0.7969 dir_and_amount -0.0016 weight 1.5953\n",
      "Error 0.0 Prediction 0.7977 dir_and_amount -0.0012 weight 1.5965\n"
     ]
    }
   ],
   "source": [
    "weight = 0.5\n",
    "goal_pred = 0.8\n",
    "inp = 0.5\n",
    "\n",
    "for iteration in range(20):\n",
    "    pred = inp * weight\n",
    "    error = (pred - goal_pred) ** 2\n",
    "    dir_and_amount = (pred - goal_pred) * inp\n",
    "    weight -= dir_and_amount\n",
    "    \n",
    "    print(f'Error {round(error, 4)} Prediction {round(pred, 4)} dir_and_amount {round(dir_and_amount,4)} weight {round(weight,4)}')"
   ]
  },
  {
   "cell_type": "markdown",
   "metadata": {},
   "source": [
    "### Одна итерация градиентного спуска"
   ]
  },
  {
   "cell_type": "code",
   "execution_count": 42,
   "metadata": {},
   "outputs": [
    {
     "name": "stdout",
     "output_type": "stream",
     "text": [
      "Delta (abs error):  -0.15\n",
      "Weight delta (grad):  -1.275\n",
      "Initial weight:  0.1\n",
      "Learned weight (weight - weight_delta * alpha):  0.113\n"
     ]
    }
   ],
   "source": [
    "weight = 0.1\n",
    "alpha = 0.01 # то же, что и learning rate\n",
    "\n",
    "def neural_network(inp, weight):\n",
    "    prediction = inp * weight\n",
    "    return prediction\n",
    "\n",
    "number_of_toes = [8.5] # входящие данные\n",
    "win_or_lose_binary = [1] # значение целевой переменной из наблюдения\n",
    "\n",
    "inp = number_of_toes[0] # входящие данные\n",
    "goal_pred = win_or_lose_binary[0] # значение целевой переменной из наблюдения\n",
    "\n",
    "pred = neural_network(inp, weight)\n",
    "\n",
    "error = (pred - goal_pred) ** 2\n",
    "\n",
    "delta = pred - goal_pred\n",
    "print('Delta (abs error): ', round(delta, 3))\n",
    "\n",
    "weight_delta = inp * delta\n",
    "print('Weight delta (grad): ', round(weight_delta, 3))\n",
    "\n",
    "# вот оно, обучение\n",
    "print('Initial weight: ', weight) \n",
    "weight -= weight_delta * alpha\n",
    "print('Learned weight (weight - weight_delta * alpha): ', round(weight, 3))"
   ]
  },
  {
   "cell_type": "code",
   "execution_count": 43,
   "metadata": {},
   "outputs": [
    {
     "name": "stdout",
     "output_type": "stream",
     "text": [
      "Error (RSE):  0.64  Prediction:  0.0\n",
      "Error (RSE):  0.36  Prediction:  0.2\n",
      "Error (RSE):  0.2025  Prediction:  0.35\n",
      "Error (RSE):  0.1139  Prediction:  0.4625\n",
      "Error (RSE):  0.0641  Prediction:  0.5469\n",
      "Error (RSE):  0.036  Prediction:  0.6102\n",
      "Error (RSE):  0.0203  Prediction:  0.6576\n",
      "Error (RSE):  0.0114  Prediction:  0.6932\n",
      "Error (RSE):  0.0064  Prediction:  0.7199\n",
      "Error (RSE):  0.0036  Prediction:  0.7399\n",
      "Error (RSE):  0.002  Prediction:  0.7549\n",
      "Error (RSE):  0.0011  Prediction:  0.7662\n",
      "Error (RSE):  0.0006  Prediction:  0.7747\n",
      "Error (RSE):  0.0004  Prediction:  0.781\n",
      "Error (RSE):  0.0002  Prediction:  0.7857\n",
      "Error (RSE):  0.0001  Prediction:  0.7893\n",
      "Error (RSE):  0.0001  Prediction:  0.792\n",
      "Error (RSE):  0.0  Prediction:  0.794\n",
      "Error (RSE):  0.0  Prediction:  0.7955\n",
      "Error (RSE):  0.0  Prediction:  0.7966\n"
     ]
    }
   ],
   "source": [
    "# Обучаемся!\n",
    "weight, goal_pred, inp, alpha = (.0, .8, .5, 1.)\n",
    "\n",
    "for iteration in range(20):\n",
    "    pred = neural_network(inp, weight)\n",
    "    error = (pred - goal_pred) ** 2\n",
    "    delta = pred - goal_pred\n",
    "    weight_delta = inp * delta\n",
    "    weight -= weight_delta * alpha\n",
    "    print('Error (RSE): ', round(error, 4), ' Prediction: ', round(pred, 4))"
   ]
  },
  {
   "cell_type": "code",
   "execution_count": 44,
   "metadata": {},
   "outputs": [
    {
     "name": "stdout",
     "output_type": "stream",
     "text": [
      "------\n",
      "Weight: 0.0\n",
      "Error (RSE):  0.64  Prediction:  0.0\n",
      "Delta (abs err):  -0.8  Weight delta (grad):  -0.88\n",
      "------\n",
      "Weight: 0.8800000000000001\n",
      "Error (RSE):  0.0282  Prediction:  0.968\n",
      "Delta (abs err):  0.168  Weight delta (grad):  0.1848\n",
      "------\n",
      "Weight: 0.6951999999999999\n",
      "Error (RSE):  0.0012  Prediction:  0.7647\n",
      "Delta (abs err):  -0.0353  Weight delta (grad):  -0.0388\n",
      "------\n",
      "Weight: 0.734008\n",
      "Error (RSE):  0.0001  Prediction:  0.8074\n",
      "Delta (abs err):  0.0074  Weight delta (grad):  0.0081\n"
     ]
    }
   ],
   "source": [
    "# Рассмотрим несколько цифлов обучения \n",
    "weight, goal_pred, inp, alpha = (0.0, 0.8, 1.1, 1.0)\n",
    "\n",
    "for iteration in range(4):\n",
    "    print(\"------\\nWeight: \" + str(weight))\n",
    "    pred = inp * weight\n",
    "    error = (pred - goal_pred) ** 2\n",
    "    delta = pred - goal_pred\n",
    "    weight_delta = inp * delta\n",
    "    weight -= weight_delta * alpha\n",
    "    print('Error (RSE): ', round(error, 4), ' Prediction: ', round(pred, 4))\n",
    "    print('Delta (abs err): ', round(delta, 4), ' Weight delta (grad): ', round(weight_delta, 4))"
   ]
  },
  {
   "cell_type": "markdown",
   "metadata": {},
   "source": [
    "### Ломаем градиентный спуск"
   ]
  },
  {
   "cell_type": "code",
   "execution_count": 45,
   "metadata": {},
   "outputs": [
    {
     "name": "stdout",
     "output_type": "stream",
     "text": [
      "Error (RSE):  0.3025  Prediction:  0.25\n",
      "Error (RSE):  0.17015625  Prediction:  0.3875\n",
      "Error (RSE):  0.095712890625  Prediction:  0.4906\n",
      "Error (RSE):  0.053838500976563  Prediction:  0.568\n",
      "Error (RSE):  0.030284156799316  Prediction:  0.626\n",
      "Error (RSE):  0.017034838199616  Prediction:  0.6695\n",
      "Error (RSE):  0.009582096487284  Prediction:  0.7021\n",
      "Error (RSE):  0.005389929274097  Prediction:  0.7266\n",
      "Error (RSE):  0.00303183521668  Prediction:  0.7449\n",
      "Error (RSE):  0.001705407309382  Prediction:  0.7587\n",
      "Error (RSE):  0.000959291611528  Prediction:  0.769\n",
      "Error (RSE):  0.000539601531484  Prediction:  0.7768\n",
      "Error (RSE):  0.00030352586146  Prediction:  0.7826\n",
      "Error (RSE):  0.000170733297071  Prediction:  0.7869\n",
      "Error (RSE):  9.6037479603e-05  Prediction:  0.7902\n",
      "Error (RSE):  5.4021082276e-05  Prediction:  0.7927\n",
      "Error (RSE):  3.038685878e-05  Prediction:  0.7945\n",
      "Error (RSE):  1.7092608064e-05  Prediction:  0.7959\n",
      "Error (RSE):  9.614592036e-06  Prediction:  0.7969\n",
      "Error (RSE):  5.40820802e-06  Prediction:  0.7977\n"
     ]
    }
   ],
   "source": [
    "weight, goal_pred, inp, alpha = (0.5, 0.8, 0.5, 1.0)\n",
    "\n",
    "for iteration in range(20):\n",
    "#     print(\"------\\nWeight: \" + str(weight))\n",
    "    pred = inp * weight\n",
    "    error = (pred - goal_pred) ** 2\n",
    "    delta = pred - goal_pred\n",
    "    weight_delta = inp * delta\n",
    "    weight -= weight_delta * alpha\n",
    "    print('Error (RSE): ', round(error, 15), ' Prediction: ', round(pred, 4))\n",
    "#     print('Delta (abs err): ', round(delta, 4), ' Weight delta (grad): ', round(weight_delta, 4))"
   ]
  },
  {
   "cell_type": "code",
   "execution_count": 46,
   "metadata": {},
   "outputs": [
    {
     "name": "stdout",
     "output_type": "stream",
     "text": [
      "Error (RSE):  0.04  Prediction:  1.0\n",
      "Error (RSE):  0.36  Prediction:  0.2\n",
      "Error (RSE):  3.239999999999998  Prediction:  2.6\n",
      "Error (RSE):  29.159999999999986  Prediction:  -4.6\n",
      "Error (RSE):  262.4399999999999  Prediction:  17.0\n",
      "Error (RSE):  2361.959999999998  Prediction:  -47.8\n",
      "Error (RSE):  21257.639999999978  Prediction:  146.6\n",
      "Error (RSE):  191318.75999999983  Prediction:  -436.6\n",
      "Error (RSE):  1721868.839999999  Prediction:  1313.0\n",
      "Error (RSE):  15496819.559999991  Prediction:  -3935.8\n",
      "Error (RSE):  139471376.03999993  Prediction:  11810.6\n",
      "Error (RSE):  1255242384.3599997  Prediction:  -35428.6\n",
      "Error (RSE):  11297181459.239996  Prediction:  106289.0\n",
      "Error (RSE):  101674633133.15994  Prediction:  -318863.8\n",
      "Error (RSE):  915071698198.4395  Prediction:  956594.6\n",
      "Error (RSE):  8235645283785.954  Prediction:  -2869780.6\n",
      "Error (RSE):  74120807554073.56  Prediction:  8609345.0\n",
      "Error (RSE):  667087267986662.1  Prediction:  -25828031.8\n",
      "Error (RSE):  6003785411879960.0  Prediction:  77484098.6\n",
      "Error (RSE):  5.403406870691965e+16  Prediction:  -232452292.6\n"
     ]
    }
   ],
   "source": [
    "# Демонстрируем пример расхождения, когда из-за больших инпутов сеть идет вразнос\n",
    "weight, goal_pred, inp, alpha = (0.5, 0.8, 2.0, 1.0)\n",
    "\n",
    "for iteration in range(20):\n",
    "    pred = inp * weight\n",
    "    error = (pred - goal_pred) ** 2\n",
    "    delta = pred - goal_pred\n",
    "    weight_delta = inp * delta\n",
    "    weight -= weight_delta * alpha\n",
    "    print('Error (RSE): ', round(error, 15), ' Prediction: ', round(pred, 4))"
   ]
  },
  {
   "cell_type": "code",
   "execution_count": 47,
   "metadata": {},
   "outputs": [
    {
     "name": "stdout",
     "output_type": "stream",
     "text": [
      "Error (RSE):  0.04  Prediction:  1.0\n",
      "Error (RSE):  0.0144  Prediction:  0.92\n",
      "Error (RSE):  0.005184  Prediction:  0.872\n",
      "Error (RSE):  0.00186624  Prediction:  0.8432\n",
      "Error (RSE):  0.0006718464  Prediction:  0.8259\n",
      "Error (RSE):  0.000241864704  Prediction:  0.8156\n",
      "Error (RSE):  8.707129344e-05  Prediction:  0.8093\n",
      "Error (RSE):  3.1345665638e-05  Prediction:  0.8056\n",
      "Error (RSE):  1.128443963e-05  Prediction:  0.8034\n",
      "Error (RSE):  4.062398267e-06  Prediction:  0.802\n",
      "Error (RSE):  1.462463376e-06  Prediction:  0.8012\n",
      "Error (RSE):  5.26486815e-07  Prediction:  0.8007\n",
      "Error (RSE):  1.89535254e-07  Prediction:  0.8004\n",
      "Error (RSE):  6.8232691e-08  Prediction:  0.8003\n",
      "Error (RSE):  2.4563769e-08  Prediction:  0.8002\n",
      "Error (RSE):  8.842957e-09  Prediction:  0.8001\n",
      "Error (RSE):  3.183464e-09  Prediction:  0.8001\n",
      "Error (RSE):  1.146047e-09  Prediction:  0.8\n",
      "Error (RSE):  4.12577e-10  Prediction:  0.8\n",
      "Error (RSE):  1.48528e-10  Prediction:  0.8\n"
     ]
    }
   ],
   "source": [
    "# Вводим альфа\n",
    "weight, goal_pred, inp, alpha = (0.5, 0.8, 2.0, 0.1)\n",
    "\n",
    "for iteration in range(20):\n",
    "    pred = inp * weight\n",
    "    error = (pred - goal_pred) ** 2\n",
    "    delta = pred - goal_pred\n",
    "    derivative = inp * delta\n",
    "    weight -= derivative * alpha\n",
    "    print('Error (RSE): ', round(error, 15), ' Prediction: ', round(pred, 4))"
   ]
  },
  {
   "cell_type": "code",
   "execution_count": 48,
   "metadata": {},
   "outputs": [
    {
     "name": "stdout",
     "output_type": "stream",
     "text": [
      "Wall time: 0 ns\n",
      "List of alpha  [1, 0.1, 0.01, 0.001, 0.0001, 1e-05] \n",
      "\n",
      "Alpha=1\n",
      "Error (RSE):  0.04  Prediction:  1.0\n",
      "Error (RSE):  2361.959999999998  Prediction:  -47.8\n",
      "Error (RSE):  139471376.03999993  Prediction:  11810.6\n",
      "Error (RSE):  8235645283785.954  Prediction:  -2869780.6\n",
      "Error (RSE):  4.8630661836227686e+17  Prediction:  697356881.0\n",
      "\n",
      "Alpha=0.1\n",
      "Error (RSE):  0.04  Prediction:  1.0\n",
      "Error (RSE):  0.000241864704  Prediction:  0.8156\n",
      "Error (RSE):  1.462463376e-06  Prediction:  0.8012\n",
      "Error (RSE):  8.842957e-09  Prediction:  0.8001\n",
      "Error (RSE):  5.347e-11  Prediction:  0.8\n",
      "\n",
      "Alpha=0.01\n",
      "Error (RSE):  0.04  Prediction:  1.0\n",
      "Error (RSE):  0.02659330543966  Prediction:  0.9631\n",
      "Error (RSE):  0.017680097355176  Prediction:  0.933\n",
      "Error (RSE):  0.011754305729228  Prediction:  0.9084\n",
      "Error (RSE):  0.007814646062213  Prediction:  0.8884\n",
      "\n",
      "Alpha=0.001\n",
      "Error (RSE):  0.04  Prediction:  1.0\n",
      "Error (RSE):  0.038428494940112  Prediction:  0.996\n",
      "Error (RSE):  0.036918730584056  Prediction:  0.9921\n",
      "Error (RSE):  0.035468281286119  Prediction:  0.9883\n",
      "Error (RSE):  0.034074816698453  Prediction:  0.9846\n",
      "\n",
      "Alpha=0.0001\n",
      "Error (RSE):  0.04  Prediction:  1.0\n",
      "Error (RSE):  0.039840287693015  Prediction:  0.9996\n",
      "Error (RSE):  0.039681213086555  Prediction:  0.9992\n",
      "Error (RSE):  0.039522773634404  Prediction:  0.9988\n",
      "Error (RSE):  0.039364966800514  Prediction:  0.9984\n",
      "\n",
      "Alpha=1e-05\n",
      "Error (RSE):  0.04  Prediction:  1.0\n",
      "Error (RSE):  0.039984002879693  Prediction:  1.0\n",
      "Error (RSE):  0.039968012157082  Prediction:  0.9999\n",
      "Error (RSE):  0.039952027829609  Prediction:  0.9999\n",
      "Error (RSE):  0.039936049894716  Prediction:  0.9998\n",
      "\n"
     ]
    }
   ],
   "source": [
    "# Поподбираем разные значения скорости обучения\n",
    "%time\n",
    "\n",
    "alphas = [10**(-n) for n in range(6)]\n",
    "\n",
    "print('List of alpha ', alphas, '\\n')\n",
    "\n",
    "for alpha in alphas:\n",
    "    print(f'Alpha={alpha}')\n",
    "    weight, goal_pred, inp = (0.5, 0.8, 2.0,)\n",
    "    for iteration in range(21):\n",
    "        pred = inp * weight\n",
    "        error = (pred - goal_pred) ** 2\n",
    "        delta = pred - goal_pred\n",
    "        derivative = inp * delta\n",
    "        weight -= derivative * alpha\n",
    "\n",
    "        if iteration % 5 == 0:\n",
    "            print('Error (RSE): ', round(error, 15), ' Prediction: ', round(pred, 4))\n",
    "    print()"
   ]
  },
  {
   "cell_type": "markdown",
   "metadata": {},
   "source": [
    "### Корректировка сразу нескольких весов и обобщение градиентного спуска"
   ]
  },
  {
   "cell_type": "markdown",
   "metadata": {},
   "source": [
    "#### Обучение методом градиентного спуска с несколькими входами"
   ]
  },
  {
   "cell_type": "code",
   "execution_count": 56,
   "metadata": {},
   "outputs": [],
   "source": [
    "class MyClass5(object):\n",
    "    \n",
    "    \n",
    "    def __init__(self, weights, toes, wlrec, nfans, lr):\n",
    "        import numpy as np\n",
    "        self.weights = weights\n",
    "        self.toes = toes\n",
    "        self.wlrec = wlrec\n",
    "        self.nfans = nfans\n",
    "        self.lr = lr\n",
    "        \n",
    "    def ele_mul(self, vec_a, vec_b):\n",
    "        return np.array(vec_a) * np.array(vec_b) \n",
    "    \n",
    "    \n",
    "    def w_sum(self, inp, weights):\n",
    "        inp = np.array([inp]).ravel()\n",
    "        weights = np.array([weights]).ravel()\n",
    "        if inp.shape != weights.shape:\n",
    "            raise Exception('ERROR!')\n",
    "        \n",
    "        return np.sum(inp * weights) \n",
    "    \n",
    "    \n",
    "    def error(self, pred, true):\n",
    "        pred = np.array([pred]).ravel()\n",
    "        true = np.array([true]).ravel()\n",
    "        if pred.shape != true.shape:\n",
    "            raise Exception('ERROR!')\n",
    "                  \n",
    "        return (pred - true) ** 2\n",
    "    \n",
    "   \n",
    "    def delta(self, pred, true):\n",
    "        return (pred - true)\n",
    "    \n",
    "    \n",
    "    def weight_deltas(self, delta, inp):\n",
    "        return self.ele_mul(delta, inp)\n",
    "    \n",
    "    \n",
    "    def updated_weights(self, weights, weight_deltas, lr):\n",
    "        return weights - weight_deltas*lr\n",
    "        \n",
    "    \n",
    "    def neural_network(self, inp, weights, lr):\n",
    "        prediction = self.w_sum(inp, weights)\n",
    "        return prediction\n",
    "    \n",
    "    def printer(self, inp, weights, true, lr):\n",
    "        pred = self.neural_network(inp, weights, lr)\n",
    "        error = self.error(pred, true)[0]\n",
    "        delta = self.delta(pred, true)\n",
    "        weight_deltas = self.ele_mul(delta, inp)\n",
    "        updated_weights = self.updated_weights(weights, weight_deltas, lr)\n",
    "        \n",
    "        print(f'pred = {np.round(pred, 5)}\\\n",
    "        \\nerror = {np.round(error, 5)}\\\n",
    "        \\ndelta = {np.round(delta, 5)}\\\n",
    "        \\nweight_deltas = {np.round(weight_deltas, 5)}\\\n",
    "        \\ncurrent_weights = {weights}\\\n",
    "        \\nupdated_weights = {np.round(updated_weights, 5)}')"
   ]
  },
  {
   "cell_type": "code",
   "execution_count": 57,
   "metadata": {},
   "outputs": [],
   "source": [
    "weights = [0.1, 0.2, -0.1]\n",
    "\n",
    "win_or_lose_binary = [1,1,0,1]\n",
    "true = win_or_lose_binary[0]\n",
    "\n",
    "toes = [8.5, 9.5, 9.9, 9.0]\n",
    "wlrec = [0.65, 0.8, 0.8, 0.9]\n",
    "nfans = [1.2, 1.3, 0.5, 1.0]\n",
    "\n",
    "lr = 0.01\n",
    "\n",
    "inp = [toes[0], wlrec[0], nfans[0]]\n",
    "\n",
    "class5 = MyClass5(weights, toes, wlrec, nfans, lr)"
   ]
  },
  {
   "cell_type": "code",
   "execution_count": 58,
   "metadata": {},
   "outputs": [
    {
     "name": "stdout",
     "output_type": "stream",
     "text": [
      "pred = 0.86        \n",
      "error = 0.0196        \n",
      "delta = -0.14        \n",
      "weight_deltas = [-1.19  -0.091 -0.168]        \n",
      "current_weights = [0.1, 0.2, -0.1]        \n",
      "updated_weights = [ 0.1119   0.20091 -0.09832]\n"
     ]
    }
   ],
   "source": [
    "class5.printer(inp, weights, true, lr)"
   ]
  },
  {
   "cell_type": "markdown",
   "metadata": {},
   "source": [
    "#### Градиентный спуск с несколькими входами"
   ]
  },
  {
   "cell_type": "code",
   "execution_count": 99,
   "metadata": {},
   "outputs": [],
   "source": [
    "weights = [0.1, 0.2, -0.1]\n",
    "\n",
    "win_or_lose_binary = [1,1,0,1]\n",
    "true = win_or_lose_binary[0]\n",
    "\n",
    "toes = [8.5, 9.5, 9.9, 9.0]\n",
    "wlrec = [0.65, 0.8, 0.8, 0.9]\n",
    "nfans = [1.2, 1.3, 0.5, 1.0]\n",
    "\n",
    "lr = 1\n",
    "\n",
    "inp = [toes[0], wlrec[0], nfans[0]]"
   ]
  },
  {
   "cell_type": "code",
   "execution_count": 100,
   "metadata": {},
   "outputs": [
    {
     "name": "stdout",
     "output_type": "stream",
     "text": [
      "pred = 0.86        \n",
      "error = 0.0196        \n",
      "delta = -0.14        \n",
      "weight_deltas = [-1.19  -0.091 -0.168]        \n",
      "current_weights = [0.1, 0.2, -0.1]        \n",
      "updated_weights = [1.29  0.291 0.068]\n"
     ]
    }
   ],
   "source": [
    "class5.printer(inp, weights, true, lr)"
   ]
  },
  {
   "cell_type": "code",
   "execution_count": 101,
   "metadata": {},
   "outputs": [],
   "source": [
    "weights = [0.1, 0.2, -0.1]\n",
    "\n",
    "win_or_lose_binary = [1,1,0,1]\n",
    "true = win_or_lose_binary[0]\n",
    "\n",
    "toes = [8.5, 9.5, 9.9, 9.0]\n",
    "wlrec = [0.65, 0.8, 0.8, 0.9]\n",
    "nfans = [1.2, 1.3, 0.5, 1.0]\n",
    "\n",
    "lr = 0.01\n",
    "\n",
    "inp = [toes[0], wlrec[0], nfans[0]]"
   ]
  },
  {
   "cell_type": "code",
   "execution_count": 102,
   "metadata": {
    "scrolled": true
   },
   "outputs": [
    {
     "name": "stdout",
     "output_type": "stream",
     "text": [
      "pred = 0.86        \n",
      "error = 0.0196        \n",
      "delta = -0.14        \n",
      "weight_deltas = [-1.19  -0.091 -0.168]        \n",
      "current_weights = [0.1, 0.2, -0.1]        \n",
      "updated_weights = [ 0.1119   0.20091 -0.09832]\n"
     ]
    }
   ],
   "source": [
    "class5.printer(inp, weights, true, lr)"
   ]
  },
  {
   "cell_type": "code",
   "execution_count": 103,
   "metadata": {},
   "outputs": [
    {
     "name": "stdout",
     "output_type": "stream",
     "text": [
      "iter: 1\n",
      "pred = 0.86            \n",
      "error = [0.02]            \n",
      "delta = -0.14            \n",
      "weight_deltas = [-1.19 -0.09 -0.17]            \n",
      "current_weights = [0.1, 0.2, -0.1]            \n",
      "updated_weights = [ 0.112  0.201 -0.098]\n",
      "--------------------\n",
      "iter: 2\n",
      "pred = 0.964            \n",
      "error = [0.001]            \n",
      "delta = -0.04            \n",
      "weight_deltas = [-0.31 -0.02 -0.04]            \n",
      "current_weights = [ 0.1119   0.20091 -0.09832]            \n",
      "updated_weights = [ 0.115  0.201 -0.098]\n",
      "--------------------\n",
      "iter: 3\n",
      "pred = 0.991            \n",
      "error = [0.]            \n",
      "delta = -0.01            \n",
      "weight_deltas = [-0.08 -0.01 -0.01]            \n",
      "current_weights = [ 0.11498061  0.20114558 -0.09788509]            \n",
      "updated_weights = [ 0.116  0.201 -0.098]\n",
      "--------------------\n"
     ]
    }
   ],
   "source": [
    "# переопределим в MyClass5 метод printer, чтобы научить его делать итерации\n",
    "class MyClass6(MyClass5):\n",
    "    \n",
    "    \n",
    "    def printer(self, inp, weights, true, lr, iters):\n",
    "        \n",
    "        for i in range(iters):\n",
    "            pred = self.neural_network(inp, weights, lr)\n",
    "            current_weights = weights\n",
    "            error = self.error(pred, true)\n",
    "            delta = self.delta(pred, true)\n",
    "            weight_deltas = self.ele_mul(delta, inp)\n",
    "            weights = self.updated_weights(weights, weight_deltas, lr)\n",
    "            \n",
    "            print(f'iter: {i+1}')\n",
    "            print(f'pred = {np.round(pred, 3)}\\\n",
    "            \\nerror = {np.round(error, 3)}\\\n",
    "            \\ndelta = {np.round(delta, 2)}\\\n",
    "            \\nweight_deltas = {np.round(weight_deltas, 2)}\\\n",
    "            \\ncurrent_weights = {current_weights}\\\n",
    "            \\nupdated_weights = {np.round(weights, 3)}')\n",
    "            print('-'*20)\n",
    "\n",
    "\n",
    "weights = [0.1, 0.2, -0.1]\n",
    "\n",
    "win_or_lose_binary = [1,1,0,1]\n",
    "true = win_or_lose_binary[0]\n",
    "\n",
    "toes = [8.5, 9.5, 9.9, 9.0]\n",
    "wlrec = [0.65, 0.8, 0.8, 0.9]\n",
    "nfans = [1.2, 1.3, 0.5, 1.0]\n",
    "\n",
    "lr = 0.01*1\n",
    "iters = 3\n",
    "\n",
    "inp = [toes[0], wlrec[0], nfans[0]]\n",
    "\n",
    "class6 = MyClass6(weights, toes, wlrec, nfans, lr)\n",
    "class6.printer(inp, weights, true, lr, iters)"
   ]
  },
  {
   "cell_type": "markdown",
   "metadata": {},
   "source": [
    "#### Замораживание одного веса"
   ]
  },
  {
   "cell_type": "code",
   "execution_count": 104,
   "metadata": {},
   "outputs": [
    {
     "name": "stdout",
     "output_type": "stream",
     "text": [
      "iter: 1\n",
      "pred = 0.86            \n",
      "error = [0.02]            \n",
      "delta = -0.14            \n",
      "weight_deltas = [-1.19 -0.09 -0.17]            \n",
      "current_weights = [0.1, 0.2, -0.1]            \n",
      "updated_weights = [ 0.124  0.202 -0.097]\n",
      "--------------------\n",
      "iter: 2\n",
      "pred = 1.068            \n",
      "error = [0.005]            \n",
      "delta = 0.07            \n",
      "weight_deltas = [0.57 0.04 0.08]            \n",
      "current_weights = [ 0.1238   0.20182 -0.09664]            \n",
      "updated_weights = [ 0.112  0.201 -0.098]\n",
      "--------------------\n",
      "iter: 3\n",
      "pred = 0.967            \n",
      "error = [0.001]            \n",
      "delta = -0.03            \n",
      "weight_deltas = [-0.28 -0.02 -0.04]            \n",
      "current_weights = [ 0.11232245  0.2009423  -0.09826036]            \n",
      "updated_weights = [ 0.118  0.201 -0.097]\n",
      "--------------------\n",
      "iter: 4\n",
      "pred = 1.016            \n",
      "error = [0.]            \n",
      "delta = 0.02            \n",
      "weight_deltas = [0.13 0.01 0.02]            \n",
      "current_weights = [ 0.1178575   0.20136557 -0.09747894]            \n",
      "updated_weights = [ 0.115  0.201 -0.098]\n",
      "--------------------\n",
      "iter: 5\n",
      "pred = 0.992            \n",
      "error = [0.]            \n",
      "delta = -0.01            \n",
      "weight_deltas = [-0.06 -0.   -0.01]            \n",
      "current_weights = [ 0.11518822  0.20116145 -0.09785578]            \n",
      "updated_weights = [ 0.116  0.201 -0.098]\n",
      "--------------------\n",
      "iter: 6\n",
      "pred = 1.004            \n",
      "error = [0.]            \n",
      "delta = 0.0            \n",
      "weight_deltas = [0.03 0.   0.  ]            \n",
      "current_weights = [ 0.11647548  0.20125989 -0.09767405]            \n",
      "updated_weights = [ 0.116  0.201 -0.098]\n",
      "--------------------\n",
      "iter: 7\n",
      "pred = 0.998            \n",
      "error = [0.]            \n",
      "delta = -0.0            \n",
      "weight_deltas = [-0.01 -0.   -0.  ]            \n",
      "current_weights = [ 0.1158547   0.20121242 -0.09776169]            \n",
      "updated_weights = [ 0.116  0.201 -0.098]\n",
      "--------------------\n",
      "iter: 8\n",
      "pred = 1.001            \n",
      "error = [0.]            \n",
      "delta = 0.0            \n",
      "weight_deltas = [0.01 0.   0.  ]            \n",
      "current_weights = [ 0.11615407  0.20123531 -0.09771943]            \n",
      "updated_weights = [ 0.116  0.201 -0.098]\n",
      "--------------------\n",
      "iter: 9\n",
      "pred = 1.0            \n",
      "error = [0.]            \n",
      "delta = -0.0            \n",
      "weight_deltas = [-0. -0. -0.]            \n",
      "current_weights = [ 0.1160097   0.20122427 -0.09773981]            \n",
      "updated_weights = [ 0.116  0.201 -0.098]\n",
      "--------------------\n",
      "iter: 10\n",
      "pred = 1.0            \n",
      "error = [0.]            \n",
      "delta = 0.0            \n",
      "weight_deltas = [0. 0. 0.]            \n",
      "current_weights = [ 0.11607932  0.2012296  -0.09772998]            \n",
      "updated_weights = [ 0.116  0.201 -0.098]\n",
      "--------------------\n"
     ]
    }
   ],
   "source": [
    "# переопределим в MyClass6 метод weight_deltas, чтобы обнулять первый вес всегда независимо ни от чего\n",
    "class MyClass7(MyClass6):\n",
    "    \n",
    "    def weight_deltas(self, delta, inp):\n",
    "        wd = self.ele_mul(delta, inp)\n",
    "        wd[0] = 0\n",
    "        return wd\n",
    "    \n",
    "    \n",
    "weights = [0.1, 0.2, -0.1]\n",
    "\n",
    "win_or_lose_binary = [1,1,0,1]\n",
    "true = win_or_lose_binary[0]\n",
    "\n",
    "toes = [8.5, 9.5, 9.9, 9.0]\n",
    "wlrec = [0.65, 0.8, 0.8, 0.9]\n",
    "nfans = [1.2, 1.3, 0.5, 1.0]\n",
    "\n",
    "lr = 0.01*2\n",
    "iters = 10\n",
    "\n",
    "inp = [toes[0], wlrec[0], nfans[0]]\n",
    "\n",
    "class7 = MyClass7(weights, toes, wlrec, nfans, lr)\n",
    "class7.printer(inp, weights, true, lr, iters)"
   ]
  },
  {
   "cell_type": "markdown",
   "metadata": {},
   "source": [
    "### Обуение методом градиентного спуска с несколькими выходами"
   ]
  },
  {
   "cell_type": "code",
   "execution_count": 112,
   "metadata": {},
   "outputs": [
    {
     "name": "stdout",
     "output_type": "stream",
     "text": [
      "iter: 1\n",
      "pred = [0.195 0.13  0.585]            \n",
      "error = [0.009 0.757 0.235]            \n",
      "delta = [ 0.1  -0.87  0.49]            \n",
      "weight_deltas = [ 0.06 -0.57  0.32]            \n",
      "current_weights = [0.3, 0.2, 0.9]            \n",
      "updated_weights = [0.294 0.257 0.868]\n",
      "--------------------\n",
      "iter: 2\n",
      "pred = [0.191 0.167 0.565]            \n",
      "error = [0.008 0.694 0.216]            \n",
      "delta = [ 0.09 -0.83  0.46]            \n",
      "weight_deltas = [ 0.06 -0.54  0.3 ]            \n",
      "current_weights = [0.293825 0.25655  0.868475]            \n",
      "updated_weights = [0.288 0.311 0.838]\n",
      "--------------------\n"
     ]
    }
   ],
   "source": [
    "# переопределим метод neural_network, чтобы на выходе был ответ в виде вектора, а не одного числа\n",
    "# замораживать веса не будем, так что наследуемся от MyClass6\n",
    "class MyClass8(MyClass6):\n",
    "    \n",
    "    def neural_network(self, inp, weights, lr):\n",
    "        prediction = self.ele_mul(inp, weights)\n",
    "        return prediction\n",
    "    \n",
    "    \n",
    "weights = [0.3, 0.2, 0.9]\n",
    "wlrec = [0.65, 0.8, 0.8, 0.9]\n",
    "\n",
    "hurt = [0.1, 0.0, 0.0, 0.1]\n",
    "win = [1, 1, 0, 1]\n",
    "sad = [0.1, 0.0, 0.1, 0.2]\n",
    "\n",
    "inp = wlrec[0]\n",
    "true = [hurt[0], win[0], sad[0]]\n",
    "\n",
    "lr = 0.1\n",
    "iters = 2\n",
    "\n",
    "\n",
    "\n",
    "class8 = MyClass8(weights, toes, wlrec, nfans, lr)\n",
    "class8.printer(inp, weights, true, lr, iters)"
   ]
  },
  {
   "cell_type": "markdown",
   "metadata": {},
   "source": [
    "#### Обуение методом градиентного спуска с несолькими входами и выходами"
   ]
  },
  {
   "cell_type": "code",
   "execution_count": 292,
   "metadata": {},
   "outputs": [
    {
     "data": {
      "text/plain": [
       "array([[ 0.1,  0.1,  0. ],\n",
       "       [ 0.1,  0.2,  1.3],\n",
       "       [-0.3,  0. ,  0.1]])"
      ]
     },
     "execution_count": 292,
     "metadata": {},
     "output_type": "execute_result"
    }
   ],
   "source": [
    "weights = np.array([[0.1, 0.1, -0.3],\n",
    "                    [0.1, 0.2,  0.0],\n",
    "                    [0.0, 1.3,  0.1]]).T\n",
    "weights"
   ]
  },
  {
   "cell_type": "code",
   "execution_count": 293,
   "metadata": {},
   "outputs": [],
   "source": [
    "toes = [8.5, 9.5, 9.9, 9.0]\n",
    "wlrec = [0.65, 0.8, 0.8, 0.9]\n",
    "nfans = [1.2, 1.3, 0.5, 1.0]\n",
    "\n",
    "hurt = [0.1, 0.0, 0.0, 0.1]\n",
    "win = [1, 1, 0, 1]\n",
    "sad = [0.1, 0.0, 0.1, 0.2]\n",
    "\n",
    "inp = [toes[0], wlrec[0], nfans[0]]\n",
    "true = [hurt[0], win[0], sad[0]]\n",
    "\n",
    "lr = 0.01\n",
    "iters = 2"
   ]
  },
  {
   "cell_type": "code",
   "execution_count": 294,
   "metadata": {},
   "outputs": [],
   "source": [
    "# переопределим еще раз методы класса\n",
    "class MyClass9(MyClass8):\n",
    "    \n",
    "    \n",
    "    def error(self, pred, true):\n",
    "        pred = np.array([pred]).ravel()\n",
    "        true = np.array([true]).ravel()\n",
    "                 \n",
    "        return (pred - true) ** 2\n",
    "    \n",
    "   \n",
    "    def delta(self, pred, true):\n",
    "        return (pred - true)\n",
    "    \n",
    "    \n",
    "    def vect_mat_mul(self, vec, matrix):\n",
    "        vec = np.array(vec).reshape(1,-1)\n",
    "        matrix = np.array(matrix)\n",
    "        \n",
    "        if vec.shape[1] != matrix.shape[0]:\n",
    "            print('Error in array shape!')\n",
    "        output = np.zeros((vec.shape))\n",
    "        for i in range(vec.shape[1]):\n",
    "            output[0, i] = np.sum(vec * matrix[:,i].reshape(1,-1))\n",
    "        return output\n",
    "    \n",
    "    \n",
    "    def outer_prod(self, vec_a, vec_b):\n",
    "        vec_a = np.array(vec_a).reshape(-1,1)\n",
    "        vec_b = np.array(vec_b).reshape(1,-1)\n",
    "        return vec_a.dot(vec_b)\n",
    "    \n",
    "    \n",
    "    def neural_network(self, inp, weights):\n",
    "        prediction = self.vect_mat_mul(inp, weights)\n",
    "        return prediction\n",
    "    \n",
    "    \n",
    "    def updated_weights(self, weights, weight_deltas, lr):\n",
    "        return weights - weight_deltas*lr\n",
    "    \n",
    "    \n",
    "    def printer(self, inp, weights, true, lr, iters):\n",
    "        \n",
    "        for i in range(iters):\n",
    "            pred = self.neural_network(inp, weights)\n",
    "            current_weights = weights\n",
    "            error = self.error(pred, true)\n",
    "            delta = self.delta(pred, true)\n",
    "            weight_deltas = self.outer_prod(delta, inp)\n",
    "            weights = self.updated_weights(weights, weight_deltas, lr)\n",
    "            \n",
    "            print(f'iter: {i+1}')\n",
    "            print(f'pred = {np.round(pred, 3)}\\\n",
    "            \\nerror = {np.round(error, 3)}\\\n",
    "            \\ndelta = {np.round(delta, 2)}\\\n",
    "            \\nweight_deltas = \\n{np.round(weight_deltas, 2)}\\\n",
    "            \\ncurrent_weights = \\n{current_weights}\\\n",
    "            \\nupdated_weights = \\n{np.round(weights, 3)}')\n",
    "            print('-'*20)"
   ]
  },
  {
   "cell_type": "code",
   "execution_count": 301,
   "metadata": {},
   "outputs": [
    {
     "data": {
      "text/plain": [
       "array([0.207, 0.   , 0.748])"
      ]
     },
     "execution_count": 301,
     "metadata": {},
     "output_type": "execute_result"
    }
   ],
   "source": [
    "np.round((np.array([0.555, 0.98,  0.965]) - true)**2, 3)"
   ]
  },
  {
   "cell_type": "code",
   "execution_count": 298,
   "metadata": {},
   "outputs": [
    {
     "data": {
      "text/plain": [
       "[0.1, 1, 0.1]"
      ]
     },
     "execution_count": 298,
     "metadata": {},
     "output_type": "execute_result"
    }
   ],
   "source": [
    "true"
   ]
  },
  {
   "cell_type": "code",
   "execution_count": 304,
   "metadata": {},
   "outputs": [
    {
     "name": "stdout",
     "output_type": "stream",
     "text": [
      "iter: 1\n",
      "pred = [[0.555 0.98  0.965]]            \n",
      "error = [0.207 0.    0.748]            \n",
      "delta = [[ 0.46 -0.02  0.87]]            \n",
      "weight_deltas = \n",
      "[[ 3.87  0.3   0.55]\n",
      " [-0.17 -0.01 -0.02]\n",
      " [ 7.35  0.56  1.04]]            \n",
      "current_weights = \n",
      "[[ 0.1  0.1  0. ]\n",
      " [ 0.1  0.2  1.3]\n",
      " [-0.3  0.   0.1]]            \n",
      "updated_weights = \n",
      "[[ 0.061  0.097 -0.005]\n",
      " [ 0.102  0.2    1.3  ]\n",
      " [-0.374 -0.006  0.09 ]]\n",
      "--------------------\n",
      "iter: 2\n",
      "pred = [[0.139 0.948 0.906]]            \n",
      "error = [0.002 0.003 0.65 ]            \n",
      "delta = [[ 0.04 -0.05  0.81]]            \n",
      "weight_deltas = \n",
      "[[ 0.33  0.03  0.05]\n",
      " [-0.44 -0.03 -0.06]\n",
      " [ 6.85  0.52  0.97]]            \n",
      "current_weights = \n",
      "[[ 0.061325   0.0970425 -0.00546  ]\n",
      " [ 0.1017     0.20013    1.30024  ]\n",
      " [-0.373525  -0.0056225  0.08962  ]]            \n",
      "updated_weights = \n",
      "[[ 0.058  0.097 -0.006]\n",
      " [ 0.106  0.2    1.301]\n",
      " [-0.442 -0.011  0.08 ]]\n",
      "--------------------\n"
     ]
    }
   ],
   "source": [
    "class9 = MyClass9(weights, toes, wlrec, nfans, lr)\n",
    "class9.printer(inp, weights, true, lr, iters)"
   ]
  },
  {
   "cell_type": "markdown",
   "metadata": {},
   "source": [
    "### MNIST"
   ]
  },
  {
   "cell_type": "code",
   "execution_count": 305,
   "metadata": {},
   "outputs": [
    {
     "name": "stderr",
     "output_type": "stream",
     "text": [
      "Using TensorFlow backend.\n"
     ]
    },
    {
     "name": "stdout",
     "output_type": "stream",
     "text": [
      "Downloading data from https://s3.amazonaws.com/img-datasets/mnist.npz\n",
      "11493376/11490434 [==============================] - 13s 1us/step\n"
     ]
    }
   ],
   "source": [
    "from keras.datasets import mnist\n",
    "\n",
    "(x_train, y_train), (x_test, y_test) = mnist.load_data()\n",
    "\n",
    "images = x_train[0:1000]\n",
    "labels = y_train[0:1000]"
   ]
  },
  {
   "cell_type": "code",
   "execution_count": 308,
   "metadata": {},
   "outputs": [
    {
     "data": {
      "text/plain": [
       "array([[[0, 0, 0, ..., 0, 0, 0],\n",
       "        [0, 0, 0, ..., 0, 0, 0],\n",
       "        [0, 0, 0, ..., 0, 0, 0],\n",
       "        ...,\n",
       "        [0, 0, 0, ..., 0, 0, 0],\n",
       "        [0, 0, 0, ..., 0, 0, 0],\n",
       "        [0, 0, 0, ..., 0, 0, 0]],\n",
       "\n",
       "       [[0, 0, 0, ..., 0, 0, 0],\n",
       "        [0, 0, 0, ..., 0, 0, 0],\n",
       "        [0, 0, 0, ..., 0, 0, 0],\n",
       "        ...,\n",
       "        [0, 0, 0, ..., 0, 0, 0],\n",
       "        [0, 0, 0, ..., 0, 0, 0],\n",
       "        [0, 0, 0, ..., 0, 0, 0]],\n",
       "\n",
       "       [[0, 0, 0, ..., 0, 0, 0],\n",
       "        [0, 0, 0, ..., 0, 0, 0],\n",
       "        [0, 0, 0, ..., 0, 0, 0],\n",
       "        ...,\n",
       "        [0, 0, 0, ..., 0, 0, 0],\n",
       "        [0, 0, 0, ..., 0, 0, 0],\n",
       "        [0, 0, 0, ..., 0, 0, 0]]], dtype=uint8)"
      ]
     },
     "execution_count": 308,
     "metadata": {},
     "output_type": "execute_result"
    }
   ],
   "source": [
    "images[:3]"
   ]
  },
  {
   "cell_type": "code",
   "execution_count": 309,
   "metadata": {},
   "outputs": [
    {
     "data": {
      "text/plain": [
       "array([5, 0, 4, 1, 9, 2, 1, 3, 1, 4, 3, 5, 3, 6, 1, 7, 2, 8, 6, 9, 4, 0,\n",
       "       9, 1, 1, 2, 4, 3, 2, 7, 3, 8, 6, 9, 0, 5, 6, 0, 7, 6, 1, 8, 7, 9,\n",
       "       3, 9, 8, 5, 9, 3, 3, 0, 7, 4, 9, 8, 0, 9, 4, 1, 4, 4, 6, 0, 4, 5,\n",
       "       6, 1, 0, 0, 1, 7, 1, 6, 3, 0, 2, 1, 1, 7, 9, 0, 2, 6, 7, 8, 3, 9,\n",
       "       0, 4, 6, 7, 4, 6, 8, 0, 7, 8, 3, 1, 5, 7, 1, 7, 1, 1, 6, 3, 0, 2,\n",
       "       9, 3, 1, 1, 0, 4, 9, 2, 0, 0, 2, 0, 2, 7, 1, 8, 6, 4, 1, 6, 3, 4,\n",
       "       5, 9, 1, 3, 3, 8, 5, 4, 7, 7, 4, 2, 8, 5, 8, 6, 7, 3, 4, 6, 1, 9,\n",
       "       9, 6, 0, 3, 7, 2, 8, 2, 9, 4, 4, 6, 4, 9, 7, 0, 9, 2, 9, 5, 1, 5,\n",
       "       9, 1, 2, 3, 2, 3, 5, 9, 1, 7, 6, 2, 8, 2, 2, 5, 0, 7, 4, 9, 7, 8,\n",
       "       3, 2, 1, 1, 8, 3, 6, 1, 0, 3, 1, 0, 0, 1, 7, 2, 7, 3, 0, 4, 6, 5,\n",
       "       2, 6, 4, 7, 1, 8, 9, 9, 3, 0, 7, 1, 0, 2, 0, 3, 5, 4, 6, 5, 8, 6,\n",
       "       3, 7, 5, 8, 0, 9, 1, 0, 3, 1, 2, 2, 3, 3, 6, 4, 7, 5, 0, 6, 2, 7,\n",
       "       9, 8, 5, 9, 2, 1, 1, 4, 4, 5, 6, 4, 1, 2, 5, 3, 9, 3, 9, 0, 5, 9,\n",
       "       6, 5, 7, 4, 1, 3, 4, 0, 4, 8, 0, 4, 3, 6, 8, 7, 6, 0, 9, 7, 5, 7,\n",
       "       2, 1, 1, 6, 8, 9, 4, 1, 5, 2, 2, 9, 0, 3, 9, 6, 7, 2, 0, 3, 5, 4,\n",
       "       3, 6, 5, 8, 9, 5, 4, 7, 4, 2, 7, 3, 4, 8, 9, 1, 9, 2, 8, 7, 9, 1,\n",
       "       8, 7, 4, 1, 3, 1, 1, 0, 2, 3, 9, 4, 9, 2, 1, 6, 8, 4, 7, 7, 4, 4,\n",
       "       9, 2, 5, 7, 2, 4, 4, 2, 1, 9, 7, 2, 8, 7, 6, 9, 2, 2, 3, 8, 1, 6,\n",
       "       5, 1, 1, 0, 2, 6, 4, 5, 8, 3, 1, 5, 1, 9, 2, 7, 4, 4, 4, 8, 1, 5,\n",
       "       8, 9, 5, 6, 7, 9, 9, 3, 7, 0, 9, 0, 6, 6, 2, 3, 9, 0, 7, 5, 4, 8,\n",
       "       0, 9, 4, 1, 2, 8, 7, 1, 2, 6, 1, 0, 3, 0, 1, 1, 8, 2, 0, 3, 9, 4,\n",
       "       0, 5, 0, 6, 1, 7, 7, 8, 1, 9, 2, 0, 5, 1, 2, 2, 7, 3, 5, 4, 9, 7,\n",
       "       1, 8, 3, 9, 6, 0, 3, 1, 1, 2, 6, 3, 5, 7, 6, 8, 3, 9, 5, 8, 5, 7,\n",
       "       6, 1, 1, 3, 1, 7, 5, 5, 5, 2, 5, 8, 7, 0, 9, 7, 7, 5, 0, 9, 0, 0,\n",
       "       8, 9, 2, 4, 8, 1, 6, 1, 6, 5, 1, 8, 3, 4, 0, 5, 5, 8, 3, 6, 2, 3,\n",
       "       9, 2, 1, 1, 5, 2, 1, 3, 2, 8, 7, 3, 7, 2, 4, 6, 9, 7, 2, 4, 2, 8,\n",
       "       1, 1, 3, 8, 4, 0, 6, 5, 9, 3, 0, 9, 2, 4, 7, 1, 2, 9, 4, 2, 6, 1,\n",
       "       8, 9, 0, 6, 6, 7, 9, 9, 8, 0, 1, 4, 4, 6, 7, 1, 5, 7, 0, 3, 5, 8,\n",
       "       4, 7, 1, 2, 5, 9, 5, 6, 7, 5, 9, 8, 8, 3, 6, 9, 7, 0, 7, 5, 7, 1,\n",
       "       1, 0, 7, 9, 2, 3, 7, 3, 2, 4, 1, 6, 2, 7, 5, 5, 7, 4, 0, 2, 6, 3,\n",
       "       6, 4, 0, 4, 2, 6, 0, 0, 0, 0, 3, 1, 6, 2, 2, 3, 1, 4, 1, 5, 4, 6,\n",
       "       4, 7, 2, 8, 7, 9, 2, 0, 5, 1, 4, 2, 8, 3, 2, 4, 1, 5, 4, 6, 0, 7,\n",
       "       9, 8, 4, 9, 8, 0, 1, 1, 0, 2, 2, 3, 2, 4, 4, 5, 8, 6, 5, 7, 7, 8,\n",
       "       8, 9, 7, 4, 7, 3, 2, 0, 8, 6, 8, 6, 1, 6, 8, 9, 4, 0, 9, 0, 4, 1,\n",
       "       5, 4, 7, 5, 3, 7, 4, 9, 8, 5, 8, 6, 3, 8, 6, 9, 9, 1, 8, 3, 5, 8,\n",
       "       6, 5, 9, 7, 2, 5, 0, 8, 5, 1, 1, 0, 9, 1, 8, 6, 7, 0, 9, 3, 0, 8,\n",
       "       8, 9, 6, 7, 8, 4, 7, 5, 9, 2, 6, 7, 4, 5, 9, 2, 3, 1, 6, 3, 9, 2,\n",
       "       2, 5, 6, 8, 0, 7, 7, 1, 9, 8, 7, 0, 9, 9, 4, 6, 2, 8, 5, 1, 4, 1,\n",
       "       5, 5, 1, 7, 3, 6, 4, 3, 2, 5, 6, 4, 4, 0, 4, 4, 6, 7, 2, 4, 3, 3,\n",
       "       8, 0, 0, 3, 2, 2, 9, 8, 2, 3, 7, 0, 1, 1, 0, 2, 3, 3, 8, 4, 3, 5,\n",
       "       7, 6, 4, 7, 7, 8, 5, 9, 7, 0, 3, 1, 6, 2, 4, 3, 4, 4, 7, 5, 9, 6,\n",
       "       9, 0, 7, 1, 4, 2, 7, 3, 6, 7, 5, 8, 4, 5, 5, 2, 7, 1, 1, 5, 6, 8,\n",
       "       5, 8, 4, 0, 7, 9, 9, 2, 9, 7, 7, 8, 7, 4, 2, 6, 9, 1, 7, 0, 6, 4,\n",
       "       2, 5, 7, 0, 7, 1, 0, 3, 7, 6, 5, 0, 6, 1, 5, 1, 7, 8, 5, 0, 3, 4,\n",
       "       7, 7, 5, 7, 8, 6, 9, 3, 8, 6, 1, 0, 9, 7, 1, 3, 0, 5, 6, 4, 4, 2,\n",
       "       4, 4, 3, 1, 7, 7, 6, 0, 3, 6], dtype=uint8)"
      ]
     },
     "execution_count": 309,
     "metadata": {},
     "output_type": "execute_result"
    }
   ],
   "source": [
    "labels"
   ]
  },
  {
   "cell_type": "code",
   "execution_count": null,
   "metadata": {},
   "outputs": [],
   "source": []
  }
 ],
 "metadata": {
  "kernelspec": {
   "display_name": "Python 3",
   "language": "python",
   "name": "python3"
  },
  "language_info": {
   "codemirror_mode": {
    "name": "ipython",
    "version": 3
   },
   "file_extension": ".py",
   "mimetype": "text/x-python",
   "name": "python",
   "nbconvert_exporter": "python",
   "pygments_lexer": "ipython3",
   "version": "3.7.6"
  }
 },
 "nbformat": 4,
 "nbformat_minor": 2
}
