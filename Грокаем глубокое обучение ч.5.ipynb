{
 "cells": [
  {
   "cell_type": "markdown",
   "metadata": {},
   "source": [
    "### Главы 13 - 14"
   ]
  },
  {
   "cell_type": "markdown",
   "metadata": {},
   "source": [
    "Тензоры"
   ]
  },
  {
   "cell_type": "code",
   "execution_count": 1,
   "metadata": {},
   "outputs": [],
   "source": [
    "import numpy as np\n",
    "\n",
    "class Tensor(object):\n",
    "    \n",
    "    def __init__(self, data):\n",
    "        self.data = np.array(data)\n",
    "        \n",
    "    def __add__(self, other):\n",
    "        return Tensor(self.data + other.data)\n",
    "    \n",
    "    def __repr__(self):\n",
    "        return str(self.data.__repr__())\n",
    "    \n",
    "    def __str__(self):\n",
    "        return str(self.data.__str__())"
   ]
  },
  {
   "cell_type": "code",
   "execution_count": 3,
   "metadata": {},
   "outputs": [
    {
     "name": "stdout",
     "output_type": "stream",
     "text": [
      "[1 2 3 4 5]\n"
     ]
    }
   ],
   "source": [
    "x = Tensor([1,2,3,4,5])\n",
    "print(x)"
   ]
  },
  {
   "cell_type": "code",
   "execution_count": 4,
   "metadata": {},
   "outputs": [
    {
     "name": "stdout",
     "output_type": "stream",
     "text": [
      "[ 2  4  6  8 10]\n"
     ]
    }
   ],
   "source": [
    "y = x + x\n",
    "print(y)"
   ]
  },
  {
   "cell_type": "code",
   "execution_count": 5,
   "metadata": {},
   "outputs": [
    {
     "name": "stdout",
     "output_type": "stream",
     "text": [
      "array([ 2,  4,  6,  8, 10])\n"
     ]
    }
   ],
   "source": [
    "print(repr(y))"
   ]
  },
  {
   "cell_type": "code",
   "execution_count": 7,
   "metadata": {},
   "outputs": [
    {
     "name": "stdout",
     "output_type": "stream",
     "text": [
      "[ 2  4  6  8 10]\n"
     ]
    }
   ],
   "source": [
    "print(str(y))"
   ]
  },
  {
   "cell_type": "code",
   "execution_count": 8,
   "metadata": {},
   "outputs": [],
   "source": [
    "import numpy as np\n",
    "\n",
    "class Tensor(object):\n",
    "    \n",
    "    def __init__(self, data, creators=None, creation_op=None):\n",
    "        self.data = np.array(data)\n",
    "        self.creators = creators # список любых тензоров, используемых для создания текущего тензора\n",
    "        self.creation_op = creation_op # хранит операции, испольщзуемые для создания текущего тензора\n",
    "        self.grad = None\n",
    "        \n",
    "    def backward(self, grad):\n",
    "        \"\"\"Рекурсивно распространяет назад градиент\n",
    "        от потомков к родителям \"\"\"\n",
    "        self.grad = grad\n",
    "        \n",
    "        if self.creation_op == \"add\":\n",
    "            self.creators[0].backward(grad)\n",
    "            self.creators[1].backward(grad)\n",
    "        \n",
    "    def __add__(self, other):\n",
    "        \"Создает вычислительный граф\"\n",
    "        return Tensor(self.data + other.data, \n",
    "                     creators = [self, other],\n",
    "                     creation_op = \"add\")\n",
    "    \n",
    "    def __repr__(self):\n",
    "        return str(self.data.__repr__())\n",
    "    \n",
    "    def __str__(self):\n",
    "        return str(self.data.__str__())"
   ]
  },
  {
   "cell_type": "code",
   "execution_count": 14,
   "metadata": {},
   "outputs": [
    {
     "name": "stdout",
     "output_type": "stream",
     "text": [
      "[1 1 1 1 1]\n",
      "[1 1 1 1 1]\n",
      "[array([1, 2, 3, 4, 5]), array([2, 2, 2, 2, 2])]\n",
      "add\n"
     ]
    }
   ],
   "source": [
    "x = Tensor([1,2,3,4,5])\n",
    "y = Tensor([2,2,2,2,2])\n",
    "z = x + y\n",
    "z.backward(Tensor(np.array([1,1,1,1,1])))\n",
    "print(x.grad)\n",
    "print(y.grad)\n",
    "print(z.creators)\n",
    "print(z.creation_op)"
   ]
  },
  {
   "cell_type": "code",
   "execution_count": 15,
   "metadata": {},
   "outputs": [
    {
     "name": "stdout",
     "output_type": "stream",
     "text": [
      "[1 1 1 1 1]\n"
     ]
    }
   ],
   "source": [
    "a = Tensor([1,2,3,4,5])\n",
    "b = Tensor([2,2,2,2,2])\n",
    "c = Tensor([5,4,3,2,1])\n",
    "d = Tensor([-1,-2,-3,-4,-5])\n",
    "\n",
    "e = a + b\n",
    "f = c + d\n",
    "g  = e + f\n",
    "\n",
    "g.backward(Tensor(np.array([1,1,1,1,1])))\n",
    "print(a.grad)"
   ]
  },
  {
   "cell_type": "markdown",
   "metadata": {},
   "source": [
    "Устраним ошибку распространения. В узел, дважды задействованном в создании потомков градиент должен вернуться дважды: [2,2,2,2,2]"
   ]
  },
  {
   "cell_type": "code",
   "execution_count": 18,
   "metadata": {
    "scrolled": true
   },
   "outputs": [
    {
     "name": "stdout",
     "output_type": "stream",
     "text": [
      "[False False False False False]\n"
     ]
    }
   ],
   "source": [
    "a = Tensor([1,2,3,4,5])\n",
    "b = Tensor([2,2,2,2,2])\n",
    "c = Tensor([5,4,3,2,1])\n",
    "\n",
    "d = a + b\n",
    "e = b + c\n",
    "f = d + e\n",
    "\n",
    "f.backward(Tensor(np.array([1,1,1,1,1])))\n",
    "print(b.grad.data == np.array([2,2,2,2,2]))"
   ]
  },
  {
   "cell_type": "code",
   "execution_count": 67,
   "metadata": {},
   "outputs": [],
   "source": [
    "import numpy as np\n",
    "\n",
    "class Tensor(object):\n",
    "        \n",
    "    def __init__(self, data, # вектор (список)\n",
    "                 autograd = False, \n",
    "                 creators=None, \n",
    "                 creation_op=None, \n",
    "                 id_ = None):\n",
    "        self.data = np.array(data) # принимаем значение атрибута в виде массива numpy\n",
    "        self.creators = creators # список любых тензоров, используемых для создания текущего тензора\n",
    "        self.creation_op = creation_op # хранит операции, используемые для создания текущего тензора\n",
    "        self.grad = None # вначале градиента нет\n",
    "        self.autograd = autograd # включатель автоградиента (нужно ли для конкретного нейрона вычислять градиент)\n",
    "        self.children = {} # счетчик для учета количества градиентов, полученных от каждого потомка при обратном распространении\n",
    "        \n",
    "        if id_ is None: # если при инициировании инстанса нет айди, создать случайный\n",
    "            self.id_ = np.random.randint(0, 100_000)\n",
    "        else: # если при инициировании инстанса указан айди, присвоить его \n",
    "            self.id_ = id_\n",
    "        \n",
    "        if creators is not None: # если есть родители\n",
    "            for c in creators: # для каждого родителя\n",
    "                if self.id_ not in c.children: # если айди инстанса не среди айди потомков выбранного родителя\n",
    "                    c.children[self.id_] = 1 # записать его в потомки выбранного родителя\n",
    "                else: # если айди уже среди айди потомков\n",
    "                    c.children[self.id_] += 1 # добавить еще единичку (т.е. учесть, через какое количество веток \n",
    "                                                            # наш инстанс является наследником)\n",
    "    \n",
    "    def all_children_grads_accounted_for(self):\n",
    "        \"\"\"Проверяет, получил ли тензор градиенты от всех своих потомков в графе\"\"\"\n",
    "        for id_, cnt in self.children.items(): # словарь self.children имеет ключи id_ и значения 1,2,...\n",
    "            if cnt != 0: # если наследников нет, вернуть False\n",
    "                return False\n",
    "        return True # если наследник(и) есть, вернуть True\n",
    "    \n",
    "    def backward(self,grad=None, grad_origin=None):\n",
    "        \"\"\"Рекурсивно распространяет назад градиент\n",
    "        от потомков к родителям \"\"\"\n",
    "        if(self.autograd): # если включатель автоградиента вкл. (если для нейрона нужно вычислять градиент)\n",
    "#             if(grad is None): # если градиента пока никакого нет\n",
    "#                 grad = FloatTensor(np.ones_like(self.data))\n",
    "            \n",
    "            if(grad_origin is not None): # если есть градиент\n",
    "                if(self.children[grad_origin.id_] == 0): # и если потомков дальше нет\n",
    "                    raise Exception(\"cannot backprop more than once\") # не распространять градиент\n",
    "                else: # если потомки есть\n",
    "                    self.children[grad_origin.id_] -= 1 # скинуть счетчик потомков на 1\n",
    "\n",
    "            if(self.grad is None): # если у инстанса нет градиента\n",
    "                self.grad = grad # присвоить атрибут метода grad\n",
    "            else: # если есть градиент\n",
    "                self.grad += grad # добавить к нему значение атрибута метода grad\n",
    "            \n",
    "            assert grad.autograd == False # проверка: если для градиента включен автоградиент, программу завалить\n",
    "            \n",
    "            # only continue backpropping if there's something to\n",
    "            # backprop into and if all gradients (from children)\n",
    "            # are accounted for override waiting for children if\n",
    "            # \"backprop\" was called on this variable directly\n",
    "            if(self.creators is not None and # если есть родители и одновременно есть наследники или grad_origin is None\n",
    "               (self.all_children_grads_accounted_for() or \n",
    "                grad_origin is None)):\n",
    "\n",
    "                if(self.creation_op == \"add\"): # если операция сложения\n",
    "                    self.creators[0].backward(self.grad, self) # распространяем градиент на папу\n",
    "                    self.creators[1].backward(self.grad, self) # и на маму\n",
    "    \n",
    "    def __add__(self, other):\n",
    "        \"Создает вычислительный граф\"\n",
    "        if self.autograd and other.autograd:\n",
    "            \n",
    "            return Tensor(self.data + other.data,\n",
    "                            autograd=True,\n",
    "                            creators = [self, other],\n",
    "                            creation_op = \"add\")\n",
    "        return Tensor(self.data + other.data)\n",
    "    \n",
    "    def __repr__(self):\n",
    "        return str(self.data.__repr__())\n",
    "    \n",
    "    def __str__(self):\n",
    "        return str(self.data.__str__())"
   ]
  },
  {
   "cell_type": "code",
   "execution_count": 68,
   "metadata": {},
   "outputs": [
    {
     "name": "stdout",
     "output_type": "stream",
     "text": [
      "[ True  True  True  True  True]\n"
     ]
    }
   ],
   "source": [
    "a = Tensor([1,2,3,4,5], autograd=True)\n",
    "b = Tensor([2,2,2,2,2], autograd=True)\n",
    "c = Tensor([5,4,3,2,1], autograd=True)\n",
    "\n",
    "d = a + b\n",
    "e = b + c\n",
    "f = d + e\n",
    "\n",
    "f.backward(Tensor(np.array([1,1,1,1,1])))\n",
    "print(b.grad.data == np.array([2,2,2,2,2]))"
   ]
  },
  {
   "cell_type": "markdown",
   "metadata": {},
   "source": [
    "Реализуем поддержку отрицания"
   ]
  },
  {
   "cell_type": "code",
   "execution_count": 70,
   "metadata": {},
   "outputs": [],
   "source": [
    "import numpy as np\n",
    "\n",
    "class Tensor(object):\n",
    "        \n",
    "    def __init__(self, data, # вектор (список)\n",
    "                 autograd = False, \n",
    "                 creators=None, \n",
    "                 creation_op=None, \n",
    "                 id_ = None):\n",
    "        self.data = np.array(data) # принимаем значение атрибута в виде массива numpy\n",
    "        self.creators = creators # список любых тензоров, используемых для создания текущего тензора\n",
    "        self.creation_op = creation_op # хранит операции, используемые для создания текущего тензора\n",
    "        self.grad = None # вначале градиента нет\n",
    "        self.autograd = autograd # включатель автоградиента (нужно ли для конкретного нейрона вычислять градиент)\n",
    "        self.children = {} # счетчик для учета количества градиентов, полученных от каждого потомка при обратном распространении\n",
    "        \n",
    "        if id_ is None: # если при инициировании инстанса нет айди, создать случайный\n",
    "            self.id_ = np.random.randint(0, 100_000)\n",
    "        else: # если при инициировании инстанса указан айди, присвоить его \n",
    "            self.id_ = id_\n",
    "        \n",
    "        if creators is not None: # если есть родители\n",
    "            for c in creators: # для каждого родителя\n",
    "                if self.id_ not in c.children: # если айди инстанса не среди айди потомков выбранного родителя\n",
    "                    c.children[self.id_] = 1 # записать его в потомки выбранного родителя\n",
    "                else: # если айди уже среди айди потомков\n",
    "                    c.children[self.id_] += 1 # добавить еще единичку (т.е. учесть, через какое количество веток \n",
    "                                                            # наш инстанс является наследником)\n",
    "    \n",
    "    def all_children_grads_accounted_for(self):\n",
    "        \"\"\"Проверяет, получил ли тензор градиенты от всех своих потомков в графе\"\"\"\n",
    "        for id_, cnt in self.children.items(): # словарь self.children имеет ключи id_ и значения 1,2,...\n",
    "            if cnt != 0: # если наследников нет, вернуть False\n",
    "                return False\n",
    "        return True # если наследник(и) есть, вернуть True\n",
    "    \n",
    "    def backward(self,grad=None, grad_origin=None):\n",
    "        \"\"\"Рекурсивно распространяет назад градиент\n",
    "        от потомков к родителям \"\"\"\n",
    "        if(self.autograd): # если включатель автоградиента вкл. (если для нейрона нужно вычислять градиент)\n",
    "#             if(grad is None): # если градиента пока никакого нет\n",
    "#                 grad = FloatTensor(np.ones_like(self.data))\n",
    "            \n",
    "            if(grad_origin is not None): # если есть градиент\n",
    "                if(self.children[grad_origin.id_] == 0): # и если потомков дальше нет\n",
    "                    raise Exception(\"cannot backprop more than once\") # не распространять градиент\n",
    "                else: # если потомки есть\n",
    "                    self.children[grad_origin.id_] -= 1 # скинуть счетчик потомков на 1\n",
    "\n",
    "            if(self.grad is None): # если у инстанса нет градиента\n",
    "                self.grad = grad # присвоить атрибут метода grad\n",
    "            else: # если есть градиент\n",
    "                self.grad += grad # добавить к нему значение атрибута метода grad\n",
    "            \n",
    "            assert grad.autograd == False # проверка: если для градиента включен автоградиент, программу завалить\n",
    "            \n",
    "            # only continue backpropping if there's something to\n",
    "            # backprop into and if all gradients (from children)\n",
    "            # are accounted for override waiting for children if\n",
    "            # \"backprop\" was called on this variable directly\n",
    "            if(self.creators is not None and # если есть родители и одновременно есть наследники или grad_origin is None\n",
    "               (self.all_children_grads_accounted_for() or \n",
    "                grad_origin is None)):\n",
    "\n",
    "                if(self.creation_op == \"add\"): # если операция сложения\n",
    "                    self.creators[0].backward(self.grad, self) # распространяем градиент на папу\n",
    "                    self.creators[1].backward(self.grad, self) # и на маму\n",
    "                if(self.creation_op == \"neg\"): # если операция сложения\n",
    "                    self.creators[0].backward(self.grad.__neg__()) # распространяем градиент на папу\n",
    "    \n",
    "    def __add__(self, other):\n",
    "        \"Создает вычислительный граф\"\n",
    "        if self.autograd and other.autograd:\n",
    "            \n",
    "            return Tensor(self.data + other.data,\n",
    "                            autograd=True,\n",
    "                            creators = [self, other],\n",
    "                            creation_op = \"add\")\n",
    "        return Tensor(self.data + other.data)\n",
    "    \n",
    "    def __neg__(self):\n",
    "        if self.autograd:\n",
    "            return Tensor(self.data * (-1),\n",
    "                 autograd = True, \n",
    "                 creators=[self], \n",
    "                 creation_op=\"neg\")\n",
    "        return Tensor(self.data * (-1))\n",
    "    \n",
    "    def __repr__(self):\n",
    "        return str(self.data.__repr__())\n",
    "    \n",
    "    def __str__(self):\n",
    "        return str(self.data.__str__())"
   ]
  },
  {
   "cell_type": "code",
   "execution_count": 71,
   "metadata": {},
   "outputs": [
    {
     "name": "stdout",
     "output_type": "stream",
     "text": [
      "[ True  True  True  True  True]\n"
     ]
    }
   ],
   "source": [
    "a = Tensor([1,2,3,4,5], autograd=True)\n",
    "b = Tensor([2,2,2,2,2], autograd=True)\n",
    "c = Tensor([5,4,3,2,1], autograd=True)\n",
    "\n",
    "d = a + (-b)\n",
    "e = (-b) + c\n",
    "f = d + e\n",
    "\n",
    "f.backward(Tensor(np.array([1,1,1,1,1])))\n",
    "print(b.grad.data == np.array([-2,-2,-2,-2,-2]))"
   ]
  },
  {
   "cell_type": "markdown",
   "metadata": {},
   "source": [
    "Добавление других операций"
   ]
  },
  {
   "cell_type": "code",
   "execution_count": null,
   "metadata": {},
   "outputs": [],
   "source": [
    "import numpy as np\n",
    "\n",
    "class Tensor(object):\n",
    "        \n",
    "    def __init__(self, data, # вектор (список)\n",
    "                 autograd = False, \n",
    "                 creators=None, \n",
    "                 creation_op=None, \n",
    "                 id_ = None):\n",
    "        self.data = np.array(data) # принимаем значение атрибута в виде массива numpy\n",
    "        self.creators = creators # список любых тензоров, используемых для создания текущего тензора\n",
    "        self.creation_op = creation_op # хранит операции, используемые для создания текущего тензора\n",
    "        self.grad = None # вначале градиента нет\n",
    "        self.autograd = autograd # включатель автоградиента (нужно ли для конкретного нейрона вычислять градиент)\n",
    "        self.children = {} # счетчик для учета количества градиентов, полученных от каждого потомка при обратном распространении\n",
    "        \n",
    "        if id_ is None: # если при инициировании инстанса нет айди, создать случайный\n",
    "            self.id_ = np.random.randint(0, 100_000)\n",
    "        else: # если при инициировании инстанса указан айди, присвоить его \n",
    "            self.id_ = id_\n",
    "        \n",
    "        if creators is not None: # если есть родители\n",
    "            for c in creators: # для каждого родителя\n",
    "                if self.id_ not in c.children: # если айди инстанса не среди айди потомков выбранного родителя\n",
    "                    c.children[self.id_] = 1 # записать его в потомки выбранного родителя\n",
    "                else: # если айди уже среди айди потомков\n",
    "                    c.children[self.id_] += 1 # добавить еще единичку (т.е. учесть, через какое количество веток \n",
    "                                                            # наш инстанс является наследником)\n",
    "    \n",
    "    def all_children_grads_accounted_for(self):\n",
    "        \"\"\"Проверяет, получил ли тензор градиенты от всех своих потомков в графе\"\"\"\n",
    "        for id_, cnt in self.children.items(): # словарь self.children имеет ключи id_ и значения 1,2,...\n",
    "            if cnt != 0: # если наследников нет, вернуть False\n",
    "                return False\n",
    "        return True # если наследник(и) есть, вернуть True\n",
    "    \n",
    "    def backward(self,grad=None, grad_origin=None):\n",
    "        \"\"\"Рекурсивно распространяет назад градиент\n",
    "        от потомков к родителям \"\"\"\n",
    "        if(self.autograd): # если включатель автоградиента вкл. (если для нейрона нужно вычислять градиент)\n",
    "#             if(grad is None): # если градиента пока никакого нет\n",
    "#                 grad = FloatTensor(np.ones_like(self.data))\n",
    "            \n",
    "            if(grad_origin is not None): # если есть градиент\n",
    "                if(self.children[grad_origin.id_] == 0): # и если потомков дальше нет\n",
    "                    raise Exception(\"cannot backprop more than once\") # не распространять градиент\n",
    "                else: # если потомки есть\n",
    "                    self.children[grad_origin.id_] -= 1 # скинуть счетчик потомков на 1\n",
    "\n",
    "            if(self.grad is None): # если у инстанса нет градиента\n",
    "                self.grad = grad # присвоить атрибут метода grad\n",
    "            else: # если есть градиент\n",
    "                self.grad += grad # добавить к нему значение атрибута метода grad\n",
    "            \n",
    "            assert grad.autograd == False # проверка: если для градиента включен автоградиент, программу завалить\n",
    "            \n",
    "            # only continue backpropping if there's something to\n",
    "            # backprop into and if all gradients (from children)\n",
    "            # are accounted for override waiting for children if\n",
    "            # \"backprop\" was called on this variable directly\n",
    "            if(self.creators is not None and # если есть родители и одновременно есть наследники или grad_origin is None\n",
    "               (self.all_children_grads_accounted_for() or \n",
    "                grad_origin is None)):\n",
    "\n",
    "                if(self.creation_op == \"add\"): # если операция сложения\n",
    "                    self.creators[0].backward(self.grad, self) # распространяем градиент на папу\n",
    "                    self.creators[1].backward(self.grad, self) # и на маму\n",
    "                if(self.creation_op == \"neg\"): # если операция сложения\n",
    "                    self.creators[0].backward(self.grad.__neg__()) # распространяем градиент на папу\n",
    "                if(self.creation_op == \"sub\"):\n",
    "                    new = Tensor(self.grad.data)\n",
    "                    self.creators[0].backward(new, self)\n",
    "                    new = Tensor(self.grad.__neg__().data)\n",
    "                    self.creators[1].backward(self)\n",
    "                if(self.creation_op == \"mul\"):\n",
    "                    new = self.grad * self.creators[1]\n",
    "                    self.creators[0].backward(new, self)\n",
    "                    new = self.grad * self.creators[0]\n",
    "                    self.creators[1].backward(self)\n",
    "                if(self.creation_op == \"mm\"):\n",
    "                    act = self.creators[0]\n",
    "                    weights = self.creators[1] # как правило слой активации\n",
    "                    new = self.grad.mm(weights.transpose())\n",
    "                    act.backward(new)\n",
    "                    new = self.grad.transpose().mm(act).transpose()\n",
    "                    weights.backward(new)\n",
    "                if(self.creation_op == \"transpose\"): \n",
    "                    self.creators[0].backward(self.grad.transpose())\n",
    "                if 'sum' in self.creation_op: \n",
    "                    dim = int(self.creation_op.split(\"_\")[1])\n",
    "                    ds = self.creators[0].data.shape[dim]\n",
    "                    self.creators[0].backward(self.grad.expand(dim, ds))\n",
    "                if 'expand' in self.creation_op: \n",
    "                    dim = int(self.creation_op.split(\"_\")[1])\n",
    "                    self.creators[0].backward(self.grad.sum(dim))\n",
    "    \n",
    "    def __add__(self, other):\n",
    "        \"Создает вычислительный граф\"\n",
    "        if self.autograd and other.autograd:\n",
    "            \n",
    "            return Tensor(self.data + other.data,\n",
    "                            autograd=True,\n",
    "                            creators = [self, other],\n",
    "                            creation_op = \"add\")\n",
    "        return Tensor(self.data + other.data)\n",
    "    \n",
    "    def __neg__(self):\n",
    "        if self.autograd:\n",
    "            return Tensor(self.data * (-1),\n",
    "                 autograd = True, \n",
    "                 creators=[self], \n",
    "                 creation_op=\"neg\")\n",
    "        return Tensor(self.data * (-1))\n",
    "    \n",
    "    def __sub__(self, other):\n",
    "        if self.autograd and other.autograd:\n",
    "            return Tensor(self.data - other.data,\n",
    "                            autograd=True,\n",
    "                            creators = [self, other],\n",
    "                            creation_op = \"sub\")\n",
    "        return Tensor(self.data - other.data)\n",
    "    \n",
    "    def __mul__(self, other):\n",
    "        if self.autograd and other.autograd:\n",
    "            return Tensor(self.data * other.data,\n",
    "                            autograd=True,\n",
    "                            creators = [self, other],\n",
    "                            creation_op = \"mul\")\n",
    "        return Tensor(self.data * other.data)\n",
    "    \n",
    "    def __sum__(self, dim):\n",
    "        \"\"\"Выполняет сложение тензора по измерениям.\n",
    "        При dim=0 сложение будет по столбцам, при dim=1 будут сложены строки\"\"\"\n",
    "        if self.autograd:\n",
    "            return Tensor(self.data.sum(dim),\n",
    "                            autograd=True,\n",
    "                            creators = [self],\n",
    "                            creation_op = \"sum_\"+str(dim))\n",
    "        return Tensor(self.data.sum(dim))\n",
    "    \n",
    "    def expand(self, dim, copies):\n",
    "        \"\"\"Используется для обратного распространения операции сложения.\n",
    "        Копирует по измерению матрицу и размножает ее в количестве copies\"\"\"\n",
    "        trans_cmd = list(range(0, len(data.shape))) # [0] для формы из одного измерения\n",
    "        trans_cmd.insert(dim,  len(data.shape)) # вставляем в конец списка значение количества измерений, получаем [0, 1]\n",
    "                                            # это нужно для параметра axes функции np.transpose()\n",
    "        new_shape = list(data.shape) + [copies] # [2] для вектора из двух значений + [2] для двух копий,\n",
    "                                            # получаем [2,2]\n",
    "        new_data = data.repeat(copies).reshape(new_shape) # np.array([1,2]).repeat(2) возвращает array([1, 1, 2, 2])\n",
    "                                                    # и решейпит на (2,2)\n",
    "        new_data = new_data.transpose(trans_cmd) # решейпим функцией np.transpose()\n",
    "        \n",
    "        if self.autograd:\n",
    "            return Tensor(new_data,\n",
    "                            autograd=True,\n",
    "                            creators = [self],\n",
    "                            creation_op = \"expand_\" + str(dim))\n",
    "        return Tensor(new_data)\n",
    "    \n",
    "    \n",
    "    def transpose(self):\n",
    "        if self.autograd:\n",
    "            return Tensor(self.data.transpose(),\n",
    "                            autograd=True,\n",
    "                            creators = [self, x],\n",
    "                            creation_op = \"transpose\")\n",
    "        return Tensor(self.data.transpose())\n",
    "    \n",
    "    def mm(self, x):\n",
    "        if self.autograd:\n",
    "            return Tensor(self.data.dot(x.data),\n",
    "                            autograd=True,\n",
    "                            creators = [self, x],\n",
    "                            creation_op = \"mm\")\n",
    "        return Tensor(self.data.dot(x.data))\n",
    "    \n",
    "    \n",
    "    def __repr__(self):\n",
    "        return str(self.data.__repr__())\n",
    "    \n",
    "    def __str__(self):\n",
    "        return str(self.data.__str__())"
   ]
  },
  {
   "cell_type": "markdown",
   "metadata": {},
   "source": [
    "Пример сети, в которой мы вручную делаем обратное распространение"
   ]
  },
  {
   "cell_type": "code",
   "execution_count": null,
   "metadata": {},
   "outputs": [],
   "source": []
  }
 ],
 "metadata": {
  "kernelspec": {
   "display_name": "Python 3",
   "language": "python",
   "name": "python3"
  },
  "language_info": {
   "codemirror_mode": {
    "name": "ipython",
    "version": 3
   },
   "file_extension": ".py",
   "mimetype": "text/x-python",
   "name": "python",
   "nbconvert_exporter": "python",
   "pygments_lexer": "ipython3",
   "version": "3.7.6"
  }
 },
 "nbformat": 4,
 "nbformat_minor": 4
}
